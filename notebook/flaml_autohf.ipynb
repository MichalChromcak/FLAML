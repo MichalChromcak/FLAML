{
 "cells": [
  {
   "cell_type": "markdown",
   "source": [
    "Copyright (c) 2020-2021 Microsoft Corporation. All rights reserved.\n",
    "\n",
    "Licensed under the MIT License.\n",
    "\n",
    "# HPO for Fine-Tuning Pre-trained Language Models\n",
    "\n",
    "\n",
    "## 1. Introduction\n",
    "\n",
    "\n",
    "In this notebook, we demonstrate a procedure for troubleshooting HPO failure in fine-tuning pre-trained language models (introduced in the following paper):\n",
    "\n",
    "*An Empirical Study on Hyperparameter Optimization for Fine-Tuning Pre-trained Language Models. Xueqing Liu, Chi Wang. To appear in ACL-IJCNLP 2021*\n",
    "\n",
    "FLAML requires `Python>=3.6`. To run this notebook example, please install flaml with the `notebook` option:\n",
    "```bash\n",
    "pip install flaml[notebook]\n",
    "```"
   ],
   "metadata": {
    "collapsed": false
   }
  },
  {
   "cell_type": "code",
   "execution_count": null,
   "outputs": [],
   "source": [
    "!pip install flaml[notebook];\n"
   ],
   "metadata": {
    "collapsed": false,
    "pycharm": {
     "name": "#%%\n"
    }
   }
  },
  {
   "cell_type": "markdown",
   "source": [
    "## 2. Initial Experimental Study (Section 4)\n",
    "\n",
    "### Installing dependencies\n",
    "\n",
    "Install the package dependencies which are not covered in ```flaml[notebook]```:"
   ],
   "metadata": {
    "collapsed": false
   }
  },
  {
   "cell_type": "code",
   "execution_count": null,
   "outputs": [],
   "source": [
    "!pip install ray transformers datasets torch\n"
   ],
   "metadata": {
    "collapsed": false,
    "pycharm": {
     "name": "#%%\n"
    }
   }
  },
  {
   "cell_type": "markdown",
   "source": [
    "### Load dataset\n",
    "\n",
    "Load the dataset using AutoTransformer.prepare_data. In this notebook, we use the Microsoft Research Paraphrasing Corpus (MRPC) dataset as an example:"
   ],
   "metadata": {
    "collapsed": false
   }
  },
  {
   "cell_type": "code",
   "execution_count": null,
   "outputs": [],
   "source": [
    "from flaml.nlp.autotransformers import AutoTransformers\n",
    "autohf = AutoTransformers()\n",
    "preparedata_setting = {\n",
    "        \"dataset_subdataset_name\": \"glue:rte\",\n",
    "        \"pretrained_model_size\": \"electra-base-discriminator:base\",\n",
    "        \"data_root_path\": \"data/\",\n",
    "        \"max_seq_length\": 128,\n",
    "        }\n",
    "autohf.prepare_data(**preparedata_setting)"
   ],
   "metadata": {
    "collapsed": false,
    "pycharm": {
     "name": "#%%\n"
    }
   }
  },
  {
   "cell_type": "markdown",
   "source": [
    "Set the time budget for running HPO. In the paper, we set the time budget to be the same as grid search time:"
   ],
   "metadata": {
    "collapsed": false
   }
  },
  {
   "cell_type": "code",
   "execution_count": null,
   "outputs": [],
   "source": [
    "time_budget = 420"
   ],
   "metadata": {
    "collapsed": false,
    "pycharm": {
     "name": "#%%\n"
    }
   }
  },
  {
   "cell_type": "markdown",
   "source": [
    "Run HPO for 1GST:"
   ],
   "metadata": {
    "collapsed": false
   }
  },
  {
   "cell_type": "code",
   "execution_count": null,
   "outputs": [],
   "source": [
    "autohf_settings = {\"resources_per_trial\": {\"gpu\": 1, \"cpu\": 1},\n",
    "                    \"num_samples\": -1, # unlimited sample size\n",
    "                    \"time_budget\": time_budget,\n",
    "                    \"ckpt_per_epoch\": 5,\n",
    "                    \"fp16\": True,\n",
    "                   }\n",
    "validation_metric, analysis = autohf.fit(**autohf_settings,)\n",
    "print(validation_metric)"
   ],
   "metadata": {
    "collapsed": false,
    "pycharm": {
     "name": "#%%\n"
    }
   }
  },
  {
   "cell_type": "markdown",
   "source": [
    ":"
   ],
   "metadata": {
    "collapsed": false
   }
  }
 ],
 "metadata": {
  "kernelspec": {
   "display_name": "Python 3",
   "language": "python",
   "name": "python3"
  },
  "language_info": {
   "codemirror_mode": {
    "name": "ipython",
    "version": 2
   },
   "file_extension": ".py",
   "mimetype": "text/x-python",
   "name": "python",
   "nbconvert_exporter": "python",
   "pygments_lexer": "ipython2",
   "version": "2.7.6"
  }
 },
 "nbformat": 4,
 "nbformat_minor": 0
}