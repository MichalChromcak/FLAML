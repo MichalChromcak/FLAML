{
 "cells": [
  {
   "cell_type": "markdown",
   "metadata": {},
   "source": [
    "Copyright (c) 2020-2021. All rights reserved.\n",
    "\n",
    "Licensed under the MIT License.\n",
    "\n",
    "# HPO for Fine-Tuning Pre-trained Language Models\n",
    "\n",
    "\n",
    "## 1. Introduction\n",
    "\n",
    "\n",
    "In this notebook, we demonstrate a procedure for troubleshooting HPO failure in fine-tuning pre-trained language models (introduced in the following paper):\n",
    "\n",
    "*An Empirical Study on Hyperparameter Optimization for Fine-Tuning Pre-trained Language Models. Xueqing Liu, Chi Wang. To appear in ACL-IJCNLP 2021*\n",
    "\n",
    "FLAML requires `Python>=3.6`. To run this notebook example, please install flaml with the `notebook` and `nlp` options:\n",
    "```bash\n",
    "pip install flaml[notebook,nlp]\n",
    "```"
   ]
  },
  {
   "cell_type": "code",
   "execution_count": 1,
   "metadata": {
    "pycharm": {
     "name": "#%%\n"
    }
   },
   "outputs": [
    {
     "name": "stdout",
     "output_type": "stream",
     "text": [
      "/data/xliu127/projects/hyperopt/FLAML\n",
      "Obtaining file:///data/xliu127/projects/hyperopt/FLAML\n",
      "Requirement already satisfied: NumPy>=1.16.2 in /home/xliu127/.local/lib/python3.8/site-packages (from FLAML==0.5.2) (1.20.2)\n",
      "Requirement already satisfied: lightgbm>=2.3.1 in /home/xliu127/.local/lib/python3.8/site-packages (from FLAML==0.5.2) (3.2.1)\n",
      "Requirement already satisfied: xgboost>=0.90 in /home/xliu127/.local/lib/python3.8/site-packages (from FLAML==0.5.2) (1.4.1)\n",
      "Requirement already satisfied: scipy>=1.4.1 in /home/xliu127/.local/lib/python3.8/site-packages (from FLAML==0.5.2) (1.6.2)\n",
      "Requirement already satisfied: catboost>=0.23 in /home/xliu127/.local/lib/python3.8/site-packages (from FLAML==0.5.2) (0.25.1)\n",
      "Requirement already satisfied: scikit-learn>=0.23.2 in /home/xliu127/.local/lib/python3.8/site-packages (from FLAML==0.5.2) (0.24.1)\n",
      "Requirement already satisfied: ray[tune]>=1.2.0 in /home/xliu127/.local/lib/python3.8/site-packages (from FLAML==0.5.2) (1.2.0)\n",
      "Requirement already satisfied: transformers in /data/installation/anaconda3/envs/tmp/lib/python3.8/site-packages (from FLAML==0.5.2) (4.5.1)\n",
      "Requirement already satisfied: wandb==0.10.26 in /data/installation/anaconda3/envs/tmp/lib/python3.8/site-packages (from FLAML==0.5.2) (0.10.26)\n",
      "Requirement already satisfied: datasets==1.4 in /data/installation/anaconda3/envs/tmp/lib/python3.8/site-packages (from FLAML==0.5.2) (1.4.0)\n",
      "Requirement already satisfied: azure-storage-blob in /data/installation/anaconda3/envs/tmp/lib/python3.8/site-packages (from FLAML==0.5.2) (12.8.1)\n",
      "Requirement already satisfied: torch in /data/installation/anaconda3/envs/tmp/lib/python3.8/site-packages (from FLAML==0.5.2) (1.8.1)\n",
      "Requirement already satisfied: tqdm<4.50.0,>=4.27 in /data/installation/anaconda3/envs/tmp/lib/python3.8/site-packages (from datasets==1.4->FLAML==0.5.2) (4.49.0)\n",
      "Requirement already satisfied: fsspec in /data/installation/anaconda3/envs/tmp/lib/python3.8/site-packages (from datasets==1.4->FLAML==0.5.2) (2021.6.0)\n",
      "Requirement already satisfied: pyarrow>=0.17.1 in /data/installation/anaconda3/envs/tmp/lib/python3.8/site-packages (from datasets==1.4->FLAML==0.5.2) (4.0.1)\n",
      "Requirement already satisfied: pandas in /home/xliu127/.local/lib/python3.8/site-packages (from datasets==1.4->FLAML==0.5.2) (1.2.4)\n",
      "Requirement already satisfied: dill in /data/installation/anaconda3/envs/tmp/lib/python3.8/site-packages (from datasets==1.4->FLAML==0.5.2) (0.3.3)\n",
      "Requirement already satisfied: xxhash in /data/installation/anaconda3/envs/tmp/lib/python3.8/site-packages (from datasets==1.4->FLAML==0.5.2) (2.0.2)\n",
      "Requirement already satisfied: huggingface-hub==0.0.2 in /data/installation/anaconda3/envs/tmp/lib/python3.8/site-packages (from datasets==1.4->FLAML==0.5.2) (0.0.2)\n",
      "Requirement already satisfied: multiprocess in /data/installation/anaconda3/envs/tmp/lib/python3.8/site-packages (from datasets==1.4->FLAML==0.5.2) (0.70.11.1)\n",
      "Requirement already satisfied: requests>=2.19.0 in /home/xliu127/.local/lib/python3.8/site-packages (from datasets==1.4->FLAML==0.5.2) (2.25.1)\n",
      "Requirement already satisfied: filelock in /home/xliu127/.local/lib/python3.8/site-packages (from huggingface-hub==0.0.2->datasets==1.4->FLAML==0.5.2) (3.0.12)\n",
      "Requirement already satisfied: promise<3,>=2.0 in /data/installation/anaconda3/envs/tmp/lib/python3.8/site-packages (from wandb==0.10.26->FLAML==0.5.2) (2.3)\n",
      "Requirement already satisfied: subprocess32>=3.5.3 in /data/installation/anaconda3/envs/tmp/lib/python3.8/site-packages (from wandb==0.10.26->FLAML==0.5.2) (3.5.4)\n",
      "Requirement already satisfied: shortuuid>=0.5.0 in /data/installation/anaconda3/envs/tmp/lib/python3.8/site-packages (from wandb==0.10.26->FLAML==0.5.2) (1.0.1)\n",
      "Requirement already satisfied: sentry-sdk>=0.4.0 in /data/installation/anaconda3/envs/tmp/lib/python3.8/site-packages (from wandb==0.10.26->FLAML==0.5.2) (1.1.0)\n",
      "Requirement already satisfied: pathtools in /data/installation/anaconda3/envs/tmp/lib/python3.8/site-packages (from wandb==0.10.26->FLAML==0.5.2) (0.1.2)\n",
      "Requirement already satisfied: six>=1.13.0 in /home/xliu127/.local/lib/python3.8/site-packages (from wandb==0.10.26->FLAML==0.5.2) (1.15.0)\n",
      "Requirement already satisfied: python-dateutil>=2.6.1 in /home/xliu127/.local/lib/python3.8/site-packages (from wandb==0.10.26->FLAML==0.5.2) (2.8.1)\n",
      "Requirement already satisfied: Click>=7.0 in /home/xliu127/.local/lib/python3.8/site-packages (from wandb==0.10.26->FLAML==0.5.2) (7.1.2)\n",
      "Requirement already satisfied: configparser>=3.8.1 in /data/installation/anaconda3/envs/tmp/lib/python3.8/site-packages (from wandb==0.10.26->FLAML==0.5.2) (5.0.2)\n",
      "Requirement already satisfied: docker-pycreds>=0.4.0 in /data/installation/anaconda3/envs/tmp/lib/python3.8/site-packages (from wandb==0.10.26->FLAML==0.5.2) (0.4.0)\n",
      "Requirement already satisfied: protobuf>=3.12.0 in /home/xliu127/.local/lib/python3.8/site-packages (from wandb==0.10.26->FLAML==0.5.2) (3.15.8)\n",
      "Requirement already satisfied: PyYAML in /home/xliu127/.local/lib/python3.8/site-packages (from wandb==0.10.26->FLAML==0.5.2) (5.3)\n",
      "Requirement already satisfied: GitPython>=1.0.0 in /data/installation/anaconda3/envs/tmp/lib/python3.8/site-packages (from wandb==0.10.26->FLAML==0.5.2) (3.1.17)\n",
      "Requirement already satisfied: psutil>=5.0.0 in /home/xliu127/.local/lib/python3.8/site-packages (from wandb==0.10.26->FLAML==0.5.2) (5.8.0)\n",
      "Requirement already satisfied: plotly in /home/xliu127/.local/lib/python3.8/site-packages (from catboost>=0.23->FLAML==0.5.2) (4.14.3)\n",
      "Requirement already satisfied: graphviz in /home/xliu127/.local/lib/python3.8/site-packages (from catboost>=0.23->FLAML==0.5.2) (0.16)\n",
      "Requirement already satisfied: matplotlib in /data/installation/anaconda3/envs/tmp/lib/python3.8/site-packages (from catboost>=0.23->FLAML==0.5.2) (3.2.0)\n",
      "Requirement already satisfied: gitdb<5,>=4.0.1 in /data/installation/anaconda3/envs/tmp/lib/python3.8/site-packages (from GitPython>=1.0.0->wandb==0.10.26->FLAML==0.5.2) (4.0.7)\n",
      "Requirement already satisfied: smmap<5,>=3.0.1 in /data/installation/anaconda3/envs/tmp/lib/python3.8/site-packages (from gitdb<5,>=4.0.1->GitPython>=1.0.0->wandb==0.10.26->FLAML==0.5.2) (4.0.0)\n",
      "Requirement already satisfied: wheel in /data/installation/anaconda3/envs/tmp/lib/python3.8/site-packages (from lightgbm>=2.3.1->FLAML==0.5.2) (0.36.2)\n",
      "Requirement already satisfied: pytz>=2017.3 in /home/xliu127/.local/lib/python3.8/site-packages (from pandas->datasets==1.4->FLAML==0.5.2) (2021.1)\n",
      "Requirement already satisfied: jsonschema in /home/xliu127/.local/lib/python3.8/site-packages (from ray[tune]>=1.2.0->FLAML==0.5.2) (3.2.0)\n",
      "Requirement already satisfied: opencensus in /home/xliu127/.local/lib/python3.8/site-packages (from ray[tune]>=1.2.0->FLAML==0.5.2) (0.7.12)\n",
      "Requirement already satisfied: py-spy>=0.2.0 in /home/xliu127/.local/lib/python3.8/site-packages (from ray[tune]>=1.2.0->FLAML==0.5.2) (0.3.5)\n",
      "Requirement already satisfied: colorful in /home/xliu127/.local/lib/python3.8/site-packages (from ray[tune]>=1.2.0->FLAML==0.5.2) (0.5.4)\n",
      "Requirement already satisfied: aiohttp-cors in /home/xliu127/.local/lib/python3.8/site-packages (from ray[tune]>=1.2.0->FLAML==0.5.2) (0.7.0)\n",
      "Requirement already satisfied: redis>=3.5.0 in /home/xliu127/.local/lib/python3.8/site-packages (from ray[tune]>=1.2.0->FLAML==0.5.2) (3.5.3)\n",
      "Requirement already satisfied: grpcio>=1.28.1 in /home/xliu127/.local/lib/python3.8/site-packages (from ray[tune]>=1.2.0->FLAML==0.5.2) (1.37.0)\n",
      "Requirement already satisfied: aioredis in /home/xliu127/.local/lib/python3.8/site-packages (from ray[tune]>=1.2.0->FLAML==0.5.2) (1.3.1)\n",
      "Requirement already satisfied: prometheus-client>=0.7.1 in /home/xliu127/.local/lib/python3.8/site-packages (from ray[tune]>=1.2.0->FLAML==0.5.2) (0.10.1)\n",
      "Requirement already satisfied: colorama in /home/xliu127/.local/lib/python3.8/site-packages (from ray[tune]>=1.2.0->FLAML==0.5.2) (0.4.4)\n",
      "Requirement already satisfied: aiohttp in /home/xliu127/.local/lib/python3.8/site-packages (from ray[tune]>=1.2.0->FLAML==0.5.2) (3.7.4.post0)\n",
      "Requirement already satisfied: gpustat in /home/xliu127/.local/lib/python3.8/site-packages (from ray[tune]>=1.2.0->FLAML==0.5.2) (0.6.0)\n",
      "Requirement already satisfied: msgpack<2.0.0,>=1.0.0 in /home/xliu127/.local/lib/python3.8/site-packages (from ray[tune]>=1.2.0->FLAML==0.5.2) (1.0.2)\n",
      "Requirement already satisfied: tensorboardX in /home/xliu127/.local/lib/python3.8/site-packages (from ray[tune]>=1.2.0->FLAML==0.5.2) (2.2)\n",
      "Requirement already satisfied: tabulate in /home/xliu127/.local/lib/python3.8/site-packages (from ray[tune]>=1.2.0->FLAML==0.5.2) (0.8.9)\n"
     ]
    },
    {
     "name": "stdout",
     "output_type": "stream",
     "text": [
      "Requirement already satisfied: urllib3<1.27,>=1.21.1 in /home/xliu127/.local/lib/python3.8/site-packages (from requests>=2.19.0->datasets==1.4->FLAML==0.5.2) (1.26.4)\n",
      "Requirement already satisfied: certifi>=2017.4.17 in /data/installation/anaconda3/envs/tmp/lib/python3.8/site-packages (from requests>=2.19.0->datasets==1.4->FLAML==0.5.2) (2021.5.30)\n",
      "Requirement already satisfied: chardet<5,>=3.0.2 in /home/xliu127/.local/lib/python3.8/site-packages (from requests>=2.19.0->datasets==1.4->FLAML==0.5.2) (4.0.0)\n",
      "Requirement already satisfied: idna<3,>=2.5 in /home/xliu127/.local/lib/python3.8/site-packages (from requests>=2.19.0->datasets==1.4->FLAML==0.5.2) (2.10)\n",
      "Requirement already satisfied: threadpoolctl>=2.0.0 in /home/xliu127/.local/lib/python3.8/site-packages (from scikit-learn>=0.23.2->FLAML==0.5.2) (2.1.0)\n",
      "Requirement already satisfied: joblib>=0.11 in /home/xliu127/.local/lib/python3.8/site-packages (from scikit-learn>=0.23.2->FLAML==0.5.2) (1.0.1)\n",
      "Requirement already satisfied: attrs>=17.3.0 in /home/xliu127/.local/lib/python3.8/site-packages (from aiohttp->ray[tune]>=1.2.0->FLAML==0.5.2) (20.3.0)\n",
      "Requirement already satisfied: async-timeout<4.0,>=3.0 in /home/xliu127/.local/lib/python3.8/site-packages (from aiohttp->ray[tune]>=1.2.0->FLAML==0.5.2) (3.0.1)\n",
      "Requirement already satisfied: typing-extensions>=3.6.5 in /home/xliu127/.local/lib/python3.8/site-packages (from aiohttp->ray[tune]>=1.2.0->FLAML==0.5.2) (3.7.4.3)\n",
      "Requirement already satisfied: multidict<7.0,>=4.5 in /home/xliu127/.local/lib/python3.8/site-packages (from aiohttp->ray[tune]>=1.2.0->FLAML==0.5.2) (5.1.0)\n",
      "Requirement already satisfied: yarl<2.0,>=1.0 in /home/xliu127/.local/lib/python3.8/site-packages (from aiohttp->ray[tune]>=1.2.0->FLAML==0.5.2) (1.6.3)\n",
      "Requirement already satisfied: hiredis in /home/xliu127/.local/lib/python3.8/site-packages (from aioredis->ray[tune]>=1.2.0->FLAML==0.5.2) (2.0.0)\n",
      "Requirement already satisfied: azure-core<2.0.0,>=1.10.0 in /data/installation/anaconda3/envs/tmp/lib/python3.8/site-packages (from azure-storage-blob->FLAML==0.5.2) (1.15.0)\n",
      "Requirement already satisfied: msrest>=0.6.18 in /data/installation/anaconda3/envs/tmp/lib/python3.8/site-packages (from azure-storage-blob->FLAML==0.5.2) (0.6.21)\n",
      "Requirement already satisfied: cryptography>=2.1.4 in /data/installation/anaconda3/envs/tmp/lib/python3.8/site-packages (from azure-storage-blob->FLAML==0.5.2) (3.4.7)\n",
      "Requirement already satisfied: cffi>=1.12 in /data/installation/anaconda3/envs/tmp/lib/python3.8/site-packages (from cryptography>=2.1.4->azure-storage-blob->FLAML==0.5.2) (1.14.5)\n",
      "Requirement already satisfied: pycparser in /data/installation/anaconda3/envs/tmp/lib/python3.8/site-packages (from cffi>=1.12->cryptography>=2.1.4->azure-storage-blob->FLAML==0.5.2) (2.20)\n",
      "Requirement already satisfied: requests-oauthlib>=0.5.0 in /data/installation/anaconda3/envs/tmp/lib/python3.8/site-packages (from msrest>=0.6.18->azure-storage-blob->FLAML==0.5.2) (1.3.0)\n",
      "Requirement already satisfied: isodate>=0.6.0 in /data/installation/anaconda3/envs/tmp/lib/python3.8/site-packages (from msrest>=0.6.18->azure-storage-blob->FLAML==0.5.2) (0.6.0)\n",
      "Requirement already satisfied: oauthlib>=3.0.0 in /data/installation/anaconda3/envs/tmp/lib/python3.8/site-packages (from requests-oauthlib>=0.5.0->msrest>=0.6.18->azure-storage-blob->FLAML==0.5.2) (3.1.1)\n",
      "Requirement already satisfied: blessings>=1.6 in /home/xliu127/.local/lib/python3.8/site-packages (from gpustat->ray[tune]>=1.2.0->FLAML==0.5.2) (1.7)\n",
      "Requirement already satisfied: nvidia-ml-py3>=7.352.0 in /home/xliu127/.local/lib/python3.8/site-packages (from gpustat->ray[tune]>=1.2.0->FLAML==0.5.2) (7.352.0)\n",
      "Requirement already satisfied: pyrsistent>=0.14.0 in /home/xliu127/.local/lib/python3.8/site-packages (from jsonschema->ray[tune]>=1.2.0->FLAML==0.5.2) (0.17.3)\n",
      "Requirement already satisfied: setuptools in /data/installation/anaconda3/envs/tmp/lib/python3.8/site-packages (from jsonschema->ray[tune]>=1.2.0->FLAML==0.5.2) (57.0.0)\n",
      "Requirement already satisfied: cycler>=0.10 in /home/xliu127/.local/lib/python3.8/site-packages (from matplotlib->catboost>=0.23->FLAML==0.5.2) (0.10.0)\n",
      "Requirement already satisfied: pyparsing!=2.0.4,!=2.1.2,!=2.1.6,>=2.0.1 in /home/xliu127/.local/lib/python3.8/site-packages (from matplotlib->catboost>=0.23->FLAML==0.5.2) (2.4.7)\n",
      "Requirement already satisfied: kiwisolver>=1.0.1 in /home/xliu127/.local/lib/python3.8/site-packages (from matplotlib->catboost>=0.23->FLAML==0.5.2) (1.3.1)\n",
      "Requirement already satisfied: opencensus-context==0.1.2 in /home/xliu127/.local/lib/python3.8/site-packages (from opencensus->ray[tune]>=1.2.0->FLAML==0.5.2) (0.1.2)\n",
      "Requirement already satisfied: google-api-core<2.0.0,>=1.0.0 in /home/xliu127/.local/lib/python3.8/site-packages (from opencensus->ray[tune]>=1.2.0->FLAML==0.5.2) (1.26.3)\n",
      "Requirement already satisfied: googleapis-common-protos<2.0dev,>=1.6.0 in /home/xliu127/.local/lib/python3.8/site-packages (from google-api-core<2.0.0,>=1.0.0->opencensus->ray[tune]>=1.2.0->FLAML==0.5.2) (1.53.0)\n",
      "Requirement already satisfied: google-auth<2.0dev,>=1.21.1 in /home/xliu127/.local/lib/python3.8/site-packages (from google-api-core<2.0.0,>=1.0.0->opencensus->ray[tune]>=1.2.0->FLAML==0.5.2) (1.29.0)\n",
      "Requirement already satisfied: packaging>=14.3 in /home/xliu127/.local/lib/python3.8/site-packages (from google-api-core<2.0.0,>=1.0.0->opencensus->ray[tune]>=1.2.0->FLAML==0.5.2) (20.9)\n",
      "Requirement already satisfied: cachetools<5.0,>=2.0.0 in /home/xliu127/.local/lib/python3.8/site-packages (from google-auth<2.0dev,>=1.21.1->google-api-core<2.0.0,>=1.0.0->opencensus->ray[tune]>=1.2.0->FLAML==0.5.2) (4.2.1)\n",
      "Requirement already satisfied: rsa<5,>=3.1.4 in /home/xliu127/.local/lib/python3.8/site-packages (from google-auth<2.0dev,>=1.21.1->google-api-core<2.0.0,>=1.0.0->opencensus->ray[tune]>=1.2.0->FLAML==0.5.2) (4.7.2)\n",
      "Requirement already satisfied: pyasn1-modules>=0.2.1 in /home/xliu127/.local/lib/python3.8/site-packages (from google-auth<2.0dev,>=1.21.1->google-api-core<2.0.0,>=1.0.0->opencensus->ray[tune]>=1.2.0->FLAML==0.5.2) (0.2.8)\n",
      "Requirement already satisfied: pyasn1<0.5.0,>=0.4.6 in /home/xliu127/.local/lib/python3.8/site-packages (from pyasn1-modules>=0.2.1->google-auth<2.0dev,>=1.21.1->google-api-core<2.0.0,>=1.0.0->opencensus->ray[tune]>=1.2.0->FLAML==0.5.2) (0.4.8)\n",
      "Requirement already satisfied: retrying>=1.3.3 in /home/xliu127/.local/lib/python3.8/site-packages (from plotly->catboost>=0.23->FLAML==0.5.2) (1.3.3)\n",
      "Requirement already satisfied: sacremoses in /data/installation/anaconda3/envs/tmp/lib/python3.8/site-packages (from transformers->FLAML==0.5.2) (0.0.45)\n",
      "Requirement already satisfied: tokenizers<0.11,>=0.10.1 in /data/installation/anaconda3/envs/tmp/lib/python3.8/site-packages (from transformers->FLAML==0.5.2) (0.10.3)\n",
      "Requirement already satisfied: regex!=2019.12.17 in /data/installation/anaconda3/envs/tmp/lib/python3.8/site-packages (from transformers->FLAML==0.5.2) (2021.4.4)\n",
      "Installing collected packages: FLAML\n",
      "  Attempting uninstall: FLAML\n",
      "    Found existing installation: FLAML 0.5.2\n",
      "    Uninstalling FLAML-0.5.2:\n",
      "      Successfully uninstalled FLAML-0.5.2\n",
      "  Running setup.py develop for FLAML\n",
      "Successfully installed FLAML\n",
      "running install\n",
      "running bdist_egg\n",
      "running egg_info\n",
      "writing FLAML.egg-info/PKG-INFO\n",
      "writing dependency_links to FLAML.egg-info/dependency_links.txt\n",
      "writing requirements to FLAML.egg-info/requires.txt\n",
      "writing top-level names to FLAML.egg-info/top_level.txt\n",
      "reading manifest file 'FLAML.egg-info/SOURCES.txt'\n",
      "adding license file 'LICENSE'\n",
      "adding license file 'NOTICE.md'\n",
      "writing manifest file 'FLAML.egg-info/SOURCES.txt'\n",
      "installing library code to build/bdist.linux-x86_64/egg\n",
      "running install_lib\n",
      "running build_py\n",
      "copying flaml/nlp/result_analysis/azure_utils.py -> build/lib/flaml/nlp/result_analysis\n",
      "copying flaml/nlp/hpo/get_grid_search_space.py -> build/lib/flaml/nlp/hpo\n",
      "creating build/bdist.linux-x86_64/egg\n",
      "creating build/bdist.linux-x86_64/egg/flaml\n",
      "creating build/bdist.linux-x86_64/egg/flaml/tune\n",
      "copying build/lib/flaml/tune/trial.py -> build/bdist.linux-x86_64/egg/flaml/tune\n",
      "copying build/lib/flaml/tune/tune.py -> build/bdist.linux-x86_64/egg/flaml/tune\n",
      "copying build/lib/flaml/tune/sample.py -> build/bdist.linux-x86_64/egg/flaml/tune\n",
      "copying build/lib/flaml/tune/__init__.py -> build/bdist.linux-x86_64/egg/flaml/tune\n",
      "copying build/lib/flaml/tune/analysis.py -> build/bdist.linux-x86_64/egg/flaml/tune\n",
      "copying build/lib/flaml/tune/result.py -> build/bdist.linux-x86_64/egg/flaml/tune\n",
      "copying build/lib/flaml/tune/trial_runner.py -> build/bdist.linux-x86_64/egg/flaml/tune\n",
      "copying build/lib/flaml/config.py -> build/bdist.linux-x86_64/egg/flaml\n",
      "copying build/lib/flaml/ml.py -> build/bdist.linux-x86_64/egg/flaml\n",
      "copying build/lib/flaml/version.py -> build/bdist.linux-x86_64/egg/flaml\n",
      "creating build/bdist.linux-x86_64/egg/flaml/searcher\n",
      "copying build/lib/flaml/searcher/blendsearch.py -> build/bdist.linux-x86_64/egg/flaml/searcher\n",
      "copying build/lib/flaml/searcher/online_searcher.py -> build/bdist.linux-x86_64/egg/flaml/searcher\n",
      "copying build/lib/flaml/searcher/search_thread.py -> build/bdist.linux-x86_64/egg/flaml/searcher\n",
      "copying build/lib/flaml/searcher/__init__.py -> build/bdist.linux-x86_64/egg/flaml/searcher\n",
      "copying build/lib/flaml/searcher/suggestion.py -> build/bdist.linux-x86_64/egg/flaml/searcher\n",
      "copying build/lib/flaml/searcher/flow2.py -> build/bdist.linux-x86_64/egg/flaml/searcher\n",
      "copying build/lib/flaml/searcher/variant_generator.py -> build/bdist.linux-x86_64/egg/flaml/searcher\n",
      "copying build/lib/flaml/__init__.py -> build/bdist.linux-x86_64/egg/flaml\n",
      "copying build/lib/flaml/automl.py -> build/bdist.linux-x86_64/egg/flaml\n",
      "creating build/bdist.linux-x86_64/egg/flaml/onlineml\n",
      "copying build/lib/flaml/onlineml/trial.py -> build/bdist.linux-x86_64/egg/flaml/onlineml\n",
      "copying build/lib/flaml/onlineml/__init__.py -> build/bdist.linux-x86_64/egg/flaml/onlineml\n",
      "copying build/lib/flaml/onlineml/autovw.py -> build/bdist.linux-x86_64/egg/flaml/onlineml\n",
      "copying build/lib/flaml/onlineml/trial_runner.py -> build/bdist.linux-x86_64/egg/flaml/onlineml\n",
      "creating build/bdist.linux-x86_64/egg/flaml/nlp\n",
      "copying build/lib/flaml/nlp/autotransformers.py -> build/bdist.linux-x86_64/egg/flaml/nlp\n",
      "copying build/lib/flaml/nlp/utils.py -> build/bdist.linux-x86_64/egg/flaml/nlp\n",
      "copying build/lib/flaml/nlp/__init__.py -> build/bdist.linux-x86_64/egg/flaml/nlp\n",
      "creating build/bdist.linux-x86_64/egg/flaml/nlp/dataset\n",
      "copying build/lib/flaml/nlp/dataset/__init__.py -> build/bdist.linux-x86_64/egg/flaml/nlp/dataset\n",
      "copying build/lib/flaml/nlp/dataset/submission_auto.py -> build/bdist.linux-x86_64/egg/flaml/nlp/dataset\n",
      "copying build/lib/flaml/nlp/dataset/dataprocess_auto.py -> build/bdist.linux-x86_64/egg/flaml/nlp/dataset\n",
      "copying build/lib/flaml/nlp/dataset/metric_auto.py -> build/bdist.linux-x86_64/egg/flaml/nlp/dataset\n",
      "copying build/lib/flaml/nlp/dataset/sentence_keys_auto.py -> build/bdist.linux-x86_64/egg/flaml/nlp/dataset\n",
      "copying build/lib/flaml/nlp/dataset/task_auto.py -> build/bdist.linux-x86_64/egg/flaml/nlp/dataset\n",
      "creating build/bdist.linux-x86_64/egg/flaml/nlp/result_analysis\n",
      "copying build/lib/flaml/nlp/result_analysis/__init__.py -> build/bdist.linux-x86_64/egg/flaml/nlp/result_analysis\n",
      "copying build/lib/flaml/nlp/result_analysis/azure_utils.py -> build/bdist.linux-x86_64/egg/flaml/nlp/result_analysis\n",
      "copying build/lib/flaml/nlp/result_analysis/wandb_utils.py -> build/bdist.linux-x86_64/egg/flaml/nlp/result_analysis\n",
      "creating build/bdist.linux-x86_64/egg/flaml/nlp/hpo\n",
      "copying build/lib/flaml/nlp/hpo/scheduler_auto.py -> build/bdist.linux-x86_64/egg/flaml/nlp/hpo\n",
      "copying build/lib/flaml/nlp/hpo/hpo_searchspace.py -> build/bdist.linux-x86_64/egg/flaml/nlp/hpo\n",
      "copying build/lib/flaml/nlp/hpo/__init__.py -> build/bdist.linux-x86_64/egg/flaml/nlp/hpo\n",
      "copying build/lib/flaml/nlp/hpo/grid_searchspace_auto.py -> build/bdist.linux-x86_64/egg/flaml/nlp/hpo\n",
      "copying build/lib/flaml/nlp/hpo/get_grid_search_space.py -> build/bdist.linux-x86_64/egg/flaml/nlp/hpo\n",
      "copying build/lib/flaml/nlp/hpo/searchalgo_auto.py -> build/bdist.linux-x86_64/egg/flaml/nlp/hpo\n",
      "copying build/lib/flaml/training_log.py -> build/bdist.linux-x86_64/egg/flaml\n",
      "copying build/lib/flaml/data.py -> build/bdist.linux-x86_64/egg/flaml\n",
      "creating build/bdist.linux-x86_64/egg/flaml/scheduler\n",
      "copying build/lib/flaml/scheduler/trial_scheduler.py -> build/bdist.linux-x86_64/egg/flaml/scheduler\n",
      "copying build/lib/flaml/scheduler/__init__.py -> build/bdist.linux-x86_64/egg/flaml/scheduler\n",
      "copying build/lib/flaml/scheduler/online_scheduler.py -> build/bdist.linux-x86_64/egg/flaml/scheduler\n",
      "copying build/lib/flaml/model.py -> build/bdist.linux-x86_64/egg/flaml\n",
      "creating build/bdist.linux-x86_64/egg/test\n",
      "copying build/lib/test/test_autovw.py -> build/bdist.linux-x86_64/egg/test\n",
      "creating build/bdist.linux-x86_64/egg/test/tune\n",
      "copying build/lib/test/tune/__init__.py -> build/bdist.linux-x86_64/egg/test/tune\n",
      "copying build/lib/test/tune/test_tune.py -> build/bdist.linux-x86_64/egg/test/tune\n",
      "copying build/lib/test/test_split.py -> build/bdist.linux-x86_64/egg/test\n",
      "copying build/lib/test/test_pytorch_cifar10.py -> build/bdist.linux-x86_64/egg/test\n",
      "copying build/lib/test/test_restore.py -> build/bdist.linux-x86_64/egg/test\n",
      "copying build/lib/test/__init__.py -> build/bdist.linux-x86_64/egg/test\n",
      "copying build/lib/test/test_training_log.py -> build/bdist.linux-x86_64/egg/test\n",
      "copying build/lib/test/test_python_log.py -> build/bdist.linux-x86_64/egg/test\n",
      "copying build/lib/test/test_version.py -> build/bdist.linux-x86_64/egg/test\n",
      "copying build/lib/test/run_electra.py -> build/bdist.linux-x86_64/egg/test\n",
      "copying build/lib/test/test_xgboost2d.py -> build/bdist.linux-x86_64/egg/test\n",
      "copying build/lib/test/test_xgboost2d_sample_size.py -> build/bdist.linux-x86_64/egg/test\n",
      "copying build/lib/test/test_automl.py -> build/bdist.linux-x86_64/egg/test\n",
      "byte-compiling build/bdist.linux-x86_64/egg/flaml/tune/trial.py to trial.cpython-38.pyc\n"
     ]
    },
    {
     "name": "stdout",
     "output_type": "stream",
     "text": [
      "byte-compiling build/bdist.linux-x86_64/egg/flaml/tune/tune.py to tune.cpython-38.pyc\n",
      "byte-compiling build/bdist.linux-x86_64/egg/flaml/tune/sample.py to sample.cpython-38.pyc\n",
      "byte-compiling build/bdist.linux-x86_64/egg/flaml/tune/__init__.py to __init__.cpython-38.pyc\n",
      "byte-compiling build/bdist.linux-x86_64/egg/flaml/tune/analysis.py to analysis.cpython-38.pyc\n",
      "byte-compiling build/bdist.linux-x86_64/egg/flaml/tune/result.py to result.cpython-38.pyc\n",
      "byte-compiling build/bdist.linux-x86_64/egg/flaml/tune/trial_runner.py to trial_runner.cpython-38.pyc\n",
      "byte-compiling build/bdist.linux-x86_64/egg/flaml/config.py to config.cpython-38.pyc\n",
      "byte-compiling build/bdist.linux-x86_64/egg/flaml/ml.py to ml.cpython-38.pyc\n",
      "byte-compiling build/bdist.linux-x86_64/egg/flaml/version.py to version.cpython-38.pyc\n",
      "byte-compiling build/bdist.linux-x86_64/egg/flaml/searcher/blendsearch.py to blendsearch.cpython-38.pyc\n",
      "byte-compiling build/bdist.linux-x86_64/egg/flaml/searcher/online_searcher.py to online_searcher.cpython-38.pyc\n",
      "byte-compiling build/bdist.linux-x86_64/egg/flaml/searcher/search_thread.py to search_thread.cpython-38.pyc\n",
      "byte-compiling build/bdist.linux-x86_64/egg/flaml/searcher/__init__.py to __init__.cpython-38.pyc\n",
      "byte-compiling build/bdist.linux-x86_64/egg/flaml/searcher/suggestion.py to suggestion.cpython-38.pyc\n",
      "byte-compiling build/bdist.linux-x86_64/egg/flaml/searcher/flow2.py to flow2.cpython-38.pyc\n",
      "byte-compiling build/bdist.linux-x86_64/egg/flaml/searcher/variant_generator.py to variant_generator.cpython-38.pyc\n",
      "byte-compiling build/bdist.linux-x86_64/egg/flaml/__init__.py to __init__.cpython-38.pyc\n",
      "byte-compiling build/bdist.linux-x86_64/egg/flaml/automl.py to automl.cpython-38.pyc\n",
      "byte-compiling build/bdist.linux-x86_64/egg/flaml/onlineml/trial.py to trial.cpython-38.pyc\n",
      "byte-compiling build/bdist.linux-x86_64/egg/flaml/onlineml/__init__.py to __init__.cpython-38.pyc\n",
      "byte-compiling build/bdist.linux-x86_64/egg/flaml/onlineml/autovw.py to autovw.cpython-38.pyc\n",
      "byte-compiling build/bdist.linux-x86_64/egg/flaml/onlineml/trial_runner.py to trial_runner.cpython-38.pyc\n",
      "byte-compiling build/bdist.linux-x86_64/egg/flaml/nlp/autotransformers.py to autotransformers.cpython-38.pyc\n",
      "byte-compiling build/bdist.linux-x86_64/egg/flaml/nlp/utils.py to utils.cpython-38.pyc\n",
      "byte-compiling build/bdist.linux-x86_64/egg/flaml/nlp/__init__.py to __init__.cpython-38.pyc\n",
      "byte-compiling build/bdist.linux-x86_64/egg/flaml/nlp/dataset/__init__.py to __init__.cpython-38.pyc\n",
      "byte-compiling build/bdist.linux-x86_64/egg/flaml/nlp/dataset/submission_auto.py to submission_auto.cpython-38.pyc\n",
      "byte-compiling build/bdist.linux-x86_64/egg/flaml/nlp/dataset/dataprocess_auto.py to dataprocess_auto.cpython-38.pyc\n",
      "byte-compiling build/bdist.linux-x86_64/egg/flaml/nlp/dataset/metric_auto.py to metric_auto.cpython-38.pyc\n",
      "byte-compiling build/bdist.linux-x86_64/egg/flaml/nlp/dataset/sentence_keys_auto.py to sentence_keys_auto.cpython-38.pyc\n",
      "byte-compiling build/bdist.linux-x86_64/egg/flaml/nlp/dataset/task_auto.py to task_auto.cpython-38.pyc\n",
      "byte-compiling build/bdist.linux-x86_64/egg/flaml/nlp/result_analysis/__init__.py to __init__.cpython-38.pyc\n",
      "byte-compiling build/bdist.linux-x86_64/egg/flaml/nlp/result_analysis/azure_utils.py to azure_utils.cpython-38.pyc\n",
      "byte-compiling build/bdist.linux-x86_64/egg/flaml/nlp/result_analysis/wandb_utils.py to wandb_utils.cpython-38.pyc\n",
      "byte-compiling build/bdist.linux-x86_64/egg/flaml/nlp/hpo/scheduler_auto.py to scheduler_auto.cpython-38.pyc\n",
      "byte-compiling build/bdist.linux-x86_64/egg/flaml/nlp/hpo/hpo_searchspace.py to hpo_searchspace.cpython-38.pyc\n",
      "byte-compiling build/bdist.linux-x86_64/egg/flaml/nlp/hpo/__init__.py to __init__.cpython-38.pyc\n",
      "byte-compiling build/bdist.linux-x86_64/egg/flaml/nlp/hpo/grid_searchspace_auto.py to grid_searchspace_auto.cpython-38.pyc\n",
      "byte-compiling build/bdist.linux-x86_64/egg/flaml/nlp/hpo/get_grid_search_space.py to get_grid_search_space.cpython-38.pyc\n",
      "byte-compiling build/bdist.linux-x86_64/egg/flaml/nlp/hpo/searchalgo_auto.py to searchalgo_auto.cpython-38.pyc\n",
      "byte-compiling build/bdist.linux-x86_64/egg/flaml/training_log.py to training_log.cpython-38.pyc\n",
      "byte-compiling build/bdist.linux-x86_64/egg/flaml/data.py to data.cpython-38.pyc\n",
      "byte-compiling build/bdist.linux-x86_64/egg/flaml/scheduler/trial_scheduler.py to trial_scheduler.cpython-38.pyc\n",
      "byte-compiling build/bdist.linux-x86_64/egg/flaml/scheduler/__init__.py to __init__.cpython-38.pyc\n",
      "byte-compiling build/bdist.linux-x86_64/egg/flaml/scheduler/online_scheduler.py to online_scheduler.cpython-38.pyc\n",
      "byte-compiling build/bdist.linux-x86_64/egg/flaml/model.py to model.cpython-38.pyc\n",
      "byte-compiling build/bdist.linux-x86_64/egg/test/test_autovw.py to test_autovw.cpython-38.pyc\n",
      "byte-compiling build/bdist.linux-x86_64/egg/test/tune/__init__.py to __init__.cpython-38.pyc\n",
      "byte-compiling build/bdist.linux-x86_64/egg/test/tune/test_tune.py to test_tune.cpython-38.pyc\n",
      "byte-compiling build/bdist.linux-x86_64/egg/test/test_split.py to test_split.cpython-38.pyc\n",
      "byte-compiling build/bdist.linux-x86_64/egg/test/test_pytorch_cifar10.py to test_pytorch_cifar10.cpython-38.pyc\n",
      "byte-compiling build/bdist.linux-x86_64/egg/test/test_restore.py to test_restore.cpython-38.pyc\n",
      "byte-compiling build/bdist.linux-x86_64/egg/test/__init__.py to __init__.cpython-38.pyc\n",
      "byte-compiling build/bdist.linux-x86_64/egg/test/test_training_log.py to test_training_log.cpython-38.pyc\n",
      "byte-compiling build/bdist.linux-x86_64/egg/test/test_python_log.py to test_python_log.cpython-38.pyc\n",
      "byte-compiling build/bdist.linux-x86_64/egg/test/test_version.py to test_version.cpython-38.pyc\n",
      "byte-compiling build/bdist.linux-x86_64/egg/test/run_electra.py to run_electra.cpython-38.pyc\n",
      "byte-compiling build/bdist.linux-x86_64/egg/test/test_xgboost2d.py to test_xgboost2d.cpython-38.pyc\n",
      "byte-compiling build/bdist.linux-x86_64/egg/test/test_xgboost2d_sample_size.py to test_xgboost2d_sample_size.cpython-38.pyc\n",
      "byte-compiling build/bdist.linux-x86_64/egg/test/test_automl.py to test_automl.cpython-38.pyc\n",
      "creating build/bdist.linux-x86_64/egg/EGG-INFO\n",
      "copying FLAML.egg-info/PKG-INFO -> build/bdist.linux-x86_64/egg/EGG-INFO\n",
      "copying FLAML.egg-info/SOURCES.txt -> build/bdist.linux-x86_64/egg/EGG-INFO\n",
      "copying FLAML.egg-info/dependency_links.txt -> build/bdist.linux-x86_64/egg/EGG-INFO\n",
      "copying FLAML.egg-info/requires.txt -> build/bdist.linux-x86_64/egg/EGG-INFO\n",
      "copying FLAML.egg-info/top_level.txt -> build/bdist.linux-x86_64/egg/EGG-INFO\n",
      "zip_safe flag not set; analyzing archive contents...\n",
      "creating 'dist/FLAML-0.5.2-py3.8.egg' and adding 'build/bdist.linux-x86_64/egg' to it\n",
      "removing 'build/bdist.linux-x86_64/egg' (and everything under it)\n",
      "Processing FLAML-0.5.2-py3.8.egg\n",
      "Copying FLAML-0.5.2-py3.8.egg to /data/installation/anaconda3/envs/tmp/lib/python3.8/site-packages\n",
      "Removing FLAML 0.5.2 from easy-install.pth file\n",
      "Adding FLAML 0.5.2 to easy-install.pth file\n",
      "\n",
      "Installed /data/installation/anaconda3/envs/tmp/lib/python3.8/site-packages/FLAML-0.5.2-py3.8.egg\n",
      "Processing dependencies for FLAML==0.5.2\n",
      "Searching for scikit-learn==0.24.1\n",
      "Best match: scikit-learn 0.24.1\n",
      "Adding scikit-learn 0.24.1 to easy-install.pth file\n",
      "\n",
      "Using /home/xliu127/.local/lib/python3.8/site-packages\n",
      "Searching for catboost==0.25.1\n",
      "Best match: catboost 0.25.1\n",
      "Adding catboost 0.25.1 to easy-install.pth file\n",
      "\n",
      "Using /home/xliu127/.local/lib/python3.8/site-packages\n",
      "Searching for scipy==1.6.2\n",
      "Best match: scipy 1.6.2\n",
      "Adding scipy 1.6.2 to easy-install.pth file\n",
      "\n",
      "Using /home/xliu127/.local/lib/python3.8/site-packages\n",
      "Searching for xgboost==1.4.1\n",
      "Best match: xgboost 1.4.1\n",
      "Adding xgboost 1.4.1 to easy-install.pth file\n",
      "\n",
      "Using /home/xliu127/.local/lib/python3.8/site-packages\n",
      "Searching for lightgbm==3.2.1\n",
      "Best match: lightgbm 3.2.1\n",
      "Adding lightgbm 3.2.1 to easy-install.pth file\n",
      "\n",
      "Using /home/xliu127/.local/lib/python3.8/site-packages\n",
      "Searching for numpy==1.20.2\n",
      "Best match: numpy 1.20.2\n",
      "Adding numpy 1.20.2 to easy-install.pth file\n",
      "Installing f2py script to /data/installation/anaconda3/envs/tmp/bin\n",
      "Installing f2py3 script to /data/installation/anaconda3/envs/tmp/bin\n",
      "Installing f2py3.8 script to /data/installation/anaconda3/envs/tmp/bin\n",
      "\n",
      "Using /home/xliu127/.local/lib/python3.8/site-packages\n",
      "Searching for joblib==1.0.1\n",
      "Best match: joblib 1.0.1\n",
      "Adding joblib 1.0.1 to easy-install.pth file\n",
      "\n",
      "Using /home/xliu127/.local/lib/python3.8/site-packages\n",
      "Searching for threadpoolctl==2.1.0\n",
      "Best match: threadpoolctl 2.1.0\n",
      "Adding threadpoolctl 2.1.0 to easy-install.pth file\n",
      "\n",
      "Using /home/xliu127/.local/lib/python3.8/site-packages\n",
      "Searching for plotly==4.14.3\n",
      "Best match: plotly 4.14.3\n",
      "Adding plotly 4.14.3 to easy-install.pth file\n",
      "\n",
      "Using /home/xliu127/.local/lib/python3.8/site-packages\n",
      "Searching for six==1.15.0\n",
      "Best match: six 1.15.0\n",
      "Adding six 1.15.0 to easy-install.pth file\n",
      "\n",
      "Using /home/xliu127/.local/lib/python3.8/site-packages\n",
      "Searching for pandas==1.2.4\n",
      "Best match: pandas 1.2.4\n",
      "Adding pandas 1.2.4 to easy-install.pth file\n",
      "\n",
      "Using /home/xliu127/.local/lib/python3.8/site-packages\n",
      "Searching for graphviz==0.16\n",
      "Best match: graphviz 0.16\n",
      "Adding graphviz 0.16 to easy-install.pth file\n",
      "\n",
      "Using /home/xliu127/.local/lib/python3.8/site-packages\n",
      "Searching for matplotlib==3.2.0\n",
      "Best match: matplotlib 3.2.0\n",
      "Adding matplotlib 3.2.0 to easy-install.pth file\n",
      "\n",
      "Using /data/installation/anaconda3/envs/tmp/lib/python3.8/site-packages\n",
      "Searching for wheel==0.36.2\n",
      "Best match: wheel 0.36.2\n",
      "Processing wheel-0.36.2-py3.8.egg\n",
      "wheel 0.36.2 is already the active version in easy-install.pth\n",
      "Installing wheel script to /data/installation/anaconda3/envs/tmp/bin\n",
      "\n",
      "Using /data/installation/anaconda3/envs/tmp/lib/python3.8/site-packages/wheel-0.36.2-py3.8.egg\n",
      "Searching for retrying==1.3.3\n",
      "Best match: retrying 1.3.3\n",
      "Adding retrying 1.3.3 to easy-install.pth file\n",
      "\n",
      "Using /home/xliu127/.local/lib/python3.8/site-packages\n",
      "Searching for pytz==2021.1\n",
      "Best match: pytz 2021.1\n",
      "Adding pytz 2021.1 to easy-install.pth file\n",
      "\n",
      "Using /home/xliu127/.local/lib/python3.8/site-packages\n",
      "Searching for python-dateutil==2.8.1\n",
      "Best match: python-dateutil 2.8.1\n",
      "Adding python-dateutil 2.8.1 to easy-install.pth file\n",
      "\n",
      "Using /home/xliu127/.local/lib/python3.8/site-packages\n",
      "Searching for kiwisolver==1.3.1\n",
      "Best match: kiwisolver 1.3.1\n",
      "Adding kiwisolver 1.3.1 to easy-install.pth file\n",
      "\n",
      "Using /home/xliu127/.local/lib/python3.8/site-packages\n",
      "Searching for pyparsing==2.4.7\n",
      "Best match: pyparsing 2.4.7\n",
      "Adding pyparsing 2.4.7 to easy-install.pth file\n",
      "\n",
      "Using /home/xliu127/.local/lib/python3.8/site-packages\n",
      "Searching for cycler==0.10.0\n",
      "Best match: cycler 0.10.0\n",
      "Adding cycler 0.10.0 to easy-install.pth file\n",
      "\n",
      "Using /home/xliu127/.local/lib/python3.8/site-packages\n",
      "Finished processing dependencies for FLAML==0.5.2\n"
     ]
    },
    {
     "name": "stdout",
     "output_type": "stream",
     "text": [
      "from .hpo.hpo_searchspace import AutoHPOSearchSpace\n",
      "from .autotransformers import AutoTransformers\n",
      "from .result_analysis.azure_utils import AzureUtils, JobID\n",
      "\n"
     ]
    }
   ],
   "source": [
    "%cd /data/xliu127/projects/hyperopt/FLAML/\n",
    "!pip install -e.[nlp]\n",
    "!python setup.py install\n",
    "import flaml\n",
    "from flaml.nlp import AutoTransformers\n",
    "import inspect\n",
    "print(inspect.getsource(flaml.nlp))\n"
   ]
  },
  {
   "cell_type": "code",
   "execution_count": null,
   "metadata": {},
   "outputs": [],
   "source": []
  },
  {
   "cell_type": "markdown",
   "metadata": {},
   "source": [
    "## 2. Initial Experimental Study (Section 4)\n"
   ]
  },
  {
   "cell_type": "markdown",
   "metadata": {},
   "source": [
    "### Load dataset \n",
    "\n",
    "Load the dataset using AutoTransformer.prepare_data. In this notebook, we use the Recognizing Textual Entailment (RTE) dataset and the Electra model as an example:"
   ]
  },
  {
   "cell_type": "code",
   "execution_count": 2,
   "metadata": {
    "pycharm": {
     "name": "#%%\n"
    }
   },
   "outputs": [
    {
     "name": "stdout",
     "output_type": "stream",
     "text": [
      "console_args has no attribute pretrained_model_size, continue\n",
      "console_args has no attribute dataset_subdataset_name, continue\n",
      "console_args has no attribute algo_mode, continue\n",
      "console_args has no attribute space_mode, continue\n",
      "console_args has no attribute search_alg_args_mode, continue\n",
      "console_args has no attribute algo_name, continue\n",
      "console_args has no attribute pruner, continue\n",
      "console_args has no attribute resplit_mode, continue\n",
      "console_args has no attribute rep_id, continue\n",
      "console_args has no attribute seed_data, continue\n",
      "console_args has no attribute seed_transformers, continue\n",
      "console_args has no attribute varying_arg1, continue\n",
      "console_args has no attribute varying_arg2, continue\n"
     ]
    },
    {
     "name": "stderr",
     "output_type": "stream",
     "text": [
      "Reusing dataset glue (/home/xliu127/.cache/huggingface/datasets/glue/mrpc/1.0.0/7c99657241149a24692c402a5c3f34d4c9f1df5ac2e4c3759fadea38f6cb29c4)\n",
      "Loading cached processed dataset at /home/xliu127/.cache/huggingface/datasets/glue/mrpc/1.0.0/7c99657241149a24692c402a5c3f34d4c9f1df5ac2e4c3759fadea38f6cb29c4/cache-1bfddd336b487fb5.arrow\n",
      "Loading cached processed dataset at /home/xliu127/.cache/huggingface/datasets/glue/mrpc/1.0.0/7c99657241149a24692c402a5c3f34d4c9f1df5ac2e4c3759fadea38f6cb29c4/cache-c5a069956d4ac095.arrow\n",
      "Loading cached processed dataset at /home/xliu127/.cache/huggingface/datasets/glue/mrpc/1.0.0/7c99657241149a24692c402a5c3f34d4c9f1df5ac2e4c3759fadea38f6cb29c4/cache-4fd1d046fef9604e.arrow\n",
      "Loading cached processed dataset at /home/xliu127/.cache/huggingface/datasets/glue/mrpc/1.0.0/7c99657241149a24692c402a5c3f34d4c9f1df5ac2e4c3759fadea38f6cb29c4/cache-1bfddd336b487fb5.arrow\n",
      "Loading cached processed dataset at /home/xliu127/.cache/huggingface/datasets/glue/mrpc/1.0.0/7c99657241149a24692c402a5c3f34d4c9f1df5ac2e4c3759fadea38f6cb29c4/cache-c5a069956d4ac095.arrow\n",
      "Loading cached processed dataset at /home/xliu127/.cache/huggingface/datasets/glue/mrpc/1.0.0/7c99657241149a24692c402a5c3f34d4c9f1df5ac2e4c3759fadea38f6cb29c4/cache-4fd1d046fef9604e.arrow\n"
     ]
    }
   ],
   "source": [
    "from flaml.nlp.autotransformers import AutoTransformers\n",
    "autohf = AutoTransformers()\n",
    "preparedata_setting = {\n",
    "        \"dataset_subdataset_name\": \"glue:mrpc\",\n",
    "        \"pretrained_model_size\": \"google/electra-base-discriminator:base\",\n",
    "        \"data_root_path\": \"data/\",\n",
    "        \"max_seq_length\": 128,\n",
    "        }\n",
    "autohf.prepare_data(**preparedata_setting)\n"
   ]
  },
  {
   "cell_type": "markdown",
   "metadata": {
    "pycharm": {
     "name": "#%% md\n"
    }
   },
   "source": [
    "### Running grid search\n",
    "\n",
    "First, we run grid search using Electra. By specifying `algo_mode=\"grid\"`, AutoTransformers will run the grid search algorithm. By specifying `space_mode=\"grid\"`, AutoTransformers will use the default grid search configuration recommended by the Electra paper:"
   ]
  },
  {
   "cell_type": "code",
   "execution_count": 3,
   "metadata": {
    "pycharm": {
     "name": "#%%\n"
    },
    "scrolled": true
   },
   "outputs": [
    {
     "data": {
      "text/html": [
       "== Status ==<br>Memory usage on this node: 17.0/376.6 GiB<br>Using FIFO scheduling algorithm.<br>Resources requested: 0/96 CPUs, 0/4 GPUs, 0.0/250.83 GiB heap, 0.0/76.9 GiB objects (0/1.0 accelerator_type:V100)<br>Current best trial: d5d8f_00003 with accuracy=0.7279411764705882 and parameters={'learning_rate': 0.00015, 'weight_decay': 0.0, 'adam_epsilon': 1e-06, 'warmup_ratio': 0.1, 'per_device_train_batch_size': 32, 'hidden_dropout_prob': 0.1, 'attention_probs_dropout_prob': 0.1, 'num_train_epochs': 0.2, 'seed': 42}<br>Result logdir: /data/xliu127/projects/hyperopt/FLAML/data/checkpoint/dat=glue_subdat=mrpc_mod=grid_spa=grid_arg=dft_alg=grid_pru=None_pre=electra_presz=base_spt=ori_rep=0_sddt=43_sdhf=42_var1=None_var2=None/ray_result<br>Number of trials: 4/4 (4 TERMINATED)<br><br>"
      ],
      "text/plain": [
       "<IPython.core.display.HTML object>"
      ]
     },
     "metadata": {},
     "output_type": "display_data"
    },
    {
     "name": "stderr",
     "output_type": "stream",
     "text": [
      "2021-06-13 20:18:18,528\tINFO tune.py:450 -- Total run time: 141.76 seconds (141.60 seconds for the tuning loop).\n"
     ]
    }
   ],
   "source": [
    "autohf_settings = {\"resources_per_trial\": {\"gpu\": 1, \"cpu\": 1},\n",
    "                   \"num_samples\": 1,\n",
    "                   \"time_budget\": 100000,  # unlimited time budget\n",
    "                   \"ckpt_per_epoch\": 5,\n",
    "                   \"fp16\": True,\n",
    "                   \"algo_mode\": \"grid\",  # set the search algorithm to grid search\n",
    "                   \"space_mode\": \"grid\", # set the search space to the recommended grid space\n",
    "                   }\n",
    "validation_metric, analysis = autohf.fit(**autohf_settings,)"
   ]
  },
  {
   "cell_type": "markdown",
   "metadata": {},
   "source": [
    "Get the time for running grid search: "
   ]
  },
  {
   "cell_type": "code",
   "execution_count": 4,
   "metadata": {
    "pycharm": {
     "name": "#%%\n"
    }
   },
   "outputs": [
    {
     "name": "stdout",
     "output_type": "stream",
     "text": [
      "grid search for glue_mrpc took 141.79089450836182 seconds\n"
     ]
    }
   ],
   "source": [
    "GST = autohf.last_run_duration\n",
    "print(\"grid search for {} took {} seconds\".format(autohf.jobid_config.get_jobid_full_data_name(), GST))"
   ]
  },
  {
   "cell_type": "markdown",
   "metadata": {},
   "source": [
    "After the HPO run finishes, generate the predictions and save it as a .zip file to be submitted to the glue website. Here we will need the library AzureUtils which is for storing the output information (e.g., analysis log, .zip file) locally and uploading the output to an azure blob container (e.g., if multiple jobs are executed in a cluster). If the azure key and container information is not specified, the output information will only be saved locally. "
   ]
  },
  {
   "cell_type": "code",
   "execution_count": 5,
   "metadata": {},
   "outputs": [
    {
     "name": "stderr",
     "output_type": "stream",
     "text": [
      "remove_columns_ is deprecated and will be removed in the next major version of datasets. Use the dataset.remove_columns method instead.\n"
     ]
    },
    {
     "data": {
      "text/html": [
       "\n",
       "    <div>\n",
       "        <style>\n",
       "            /* Turns off some styling */\n",
       "            progress {\n",
       "                /* gets rid of default border in Firefox and Opera. */\n",
       "                border: none;\n",
       "                /* Needs to be in here for Safari polyfill so background images work as expected. */\n",
       "                background-size: auto;\n",
       "            }\n",
       "        </style>\n",
       "      \n",
       "      <progress value='432' max='432' style='width:300px; height:20px; vertical-align: middle;'></progress>\n",
       "      [432/432 00:34]\n",
       "    </div>\n",
       "    "
      ],
      "text/plain": [
       "<IPython.core.display.HTML object>"
      ]
     },
     "metadata": {},
     "output_type": "display_data"
    },
    {
     "name": "stdout",
     "output_type": "stream",
     "text": [
      "JobID(dat=['glue'], subdat='mrpc', mod='grid', spa='grid', arg='dft', alg='grid', pru='None', pre_full='google/electra-base-discriminator', pre='electra', presz='base', spt='ori', rep=0, sddt=43, sdhf=42, var1=None, var2=None)\n",
      "_container_name is unspecified or wrongly specified, please specify _container_name in AzureUtils\n",
      "console_args does not contain data_root_dir, loading the default value\n",
      "_container_name is unspecified or wrongly specified, please specify _container_name in AzureUtils\n"
     ]
    }
   ],
   "source": [
    "predictions, test_metric = autohf.predict()\n",
    "from flaml.nlp.result_analysis.azure_utils import AzureUtils\n",
    "\n",
    "print(autohf.jobid_config)\n",
    "\n",
    "azure_utils = AzureUtils(root_log_path=\"logs_test/\", autohf=autohf)\n",
    "azure_utils.write_autohf_output(valid_metric=validation_metric,\n",
    "                                predictions=predictions,\n",
    "                                duration= autohf.last_run_duration)\n",
    "print(validation_metric)"
   ]
  },
  {
   "cell_type": "markdown",
   "metadata": {
    "pycharm": {
     "name": "#%% md\n"
    }
   },
   "source": [
    "The validation F1/accuracy we got was 92.8/90.0. After the above steps, you will find a .zip file for the predictions under data/result/. Submit the .zip file to the glue website. The test F1/accuracy we got was 90.9/87.8."
   ]
  },
  {
   "cell_type": "markdown",
   "metadata": {
    "pycharm": {
     "name": "#%% md\n"
    }
   },
   "source": [
    "### Running Random Search\n",
    "\n",
    "Next, we run random search with the same time budget as grid search:"
   ]
  },
  {
   "cell_type": "code",
   "execution_count": 1,
   "outputs": [
    {
     "ename": "NameError",
     "evalue": "name 'GST' is not defined",
     "output_type": "error",
     "traceback": [
      "\u001B[0;31m---------------------------------------------------------------------------\u001B[0m",
      "\u001B[0;31mNameError\u001B[0m                                 Traceback (most recent call last)",
      "\u001B[0;32m<ipython-input-1-6a8eee957e5f>\u001B[0m in \u001B[0;36m<module>\u001B[0;34m\u001B[0m\n\u001B[1;32m      1\u001B[0m autohf_settings = {\"resources_per_trial\": {\"gpu\": 1, \"cpu\": 1},\n\u001B[1;32m      2\u001B[0m                    \u001B[0;34m\"num_samples\"\u001B[0m\u001B[0;34m:\u001B[0m \u001B[0;34m-\u001B[0m\u001B[0;36m1\u001B[0m\u001B[0;34m,\u001B[0m\u001B[0;34m\u001B[0m\u001B[0;34m\u001B[0m\u001B[0m\n\u001B[0;32m----> 3\u001B[0;31m                    \u001B[0;34m\"time_budget\"\u001B[0m\u001B[0;34m:\u001B[0m \u001B[0mGST\u001B[0m\u001B[0;34m,\u001B[0m  \u001B[0;31m# unlimited time budget\u001B[0m\u001B[0;34m\u001B[0m\u001B[0;34m\u001B[0m\u001B[0m\n\u001B[0m\u001B[1;32m      4\u001B[0m                    \u001B[0;34m\"ckpt_per_epoch\"\u001B[0m\u001B[0;34m:\u001B[0m \u001B[0;36m5\u001B[0m\u001B[0;34m,\u001B[0m\u001B[0;34m\u001B[0m\u001B[0;34m\u001B[0m\u001B[0m\n\u001B[1;32m      5\u001B[0m                    \u001B[0;34m\"fp16\"\u001B[0m\u001B[0;34m:\u001B[0m \u001B[0;32mTrue\u001B[0m\u001B[0;34m,\u001B[0m\u001B[0;34m\u001B[0m\u001B[0;34m\u001B[0m\u001B[0m\n",
      "\u001B[0;31mNameError\u001B[0m: name 'GST' is not defined"
     ]
    }
   ],
   "source": [
    "hpo_space = {\n",
    "               \"learning_rate\": {\"l\": 3e-5, \"u\": 1.5e-5, \"space\": \"log\"},\n",
    "               \"warmup_ratio\": {\"l\": 0, \"u\": 0.2, \"space\": \"linear\"},\n",
    "               \"num_train_epochs\": [3],\n",
    "               \"per_device_train_batch_size\": [16, 32, 64],\n",
    "               \"weight_decay\": {\"l\": 0.0, \"u\": 0.3, \"space\": \"linear\"},\n",
    "               \"attention_probs_dropout_prob\": {\"l\": 0, \"u\": 0.2, \"space\": \"linear\"},\n",
    "               \"hidden_dropout_prob\": {\"l\": 0, \"u\": 0.2, \"space\": \"linear\"}\n",
    "            }\n",
    "\n",
    "def tune_hpo(time_budget):\n",
    "    autohf_settings = {\"resources_per_trial\": {\"gpu\": 1, \"cpu\": 1},\n",
    "                       \"num_samples\": -1,\n",
    "                       \"time_budget\": time_budget,  # unlimited time budget\n",
    "                       \"ckpt_per_epoch\": 5,\n",
    "                       \"fp16\": True,\n",
    "                       \"algo_mode\": \"hpo\",  # set the search algorithm to grid search\n",
    "                       \"algo_name\": \"rs\",\n",
    "                       \"space_mode\": \"cus\", # set the search space to the recommended grid space\n",
    "                       \"hpo_space\": hpo_space\n",
    "                       }\n",
    "    validation_metric, analysis = autohf.fit(**autohf_settings,)\n",
    "    predictions, test_metric = autohf.predict()\n",
    "    azure_utils = AzureUtils(root_log_path=\"logs_test/\", autohf=autohf)\n",
    "    azure_utils.write_autohf_output(valid_metric=validation_metric,\n",
    "                                    predictions=predictions,\n",
    "                                    duration= autohf.last_run_duration)\n",
    "    print(validation_metric)\n",
    "\n",
    "tune_hpo(GST)"
   ],
   "metadata": {
    "collapsed": false,
    "pycharm": {
     "name": "#%%\n"
    }
   }
  },
  {
   "cell_type": "markdown",
   "source": [
    "The validation F1/accuracy we got was 92.6/89.7. Similarly, we can submit the .zip file to the glue website. The test F1/accuaracy we got was 90.4/86.8. Since the validation accuracy is smaller than grid search, we continue increasing the time budget for HPO."
   ],
   "metadata": {
    "collapsed": false,
    "pycharm": {
     "name": "#%% md\n"
    }
   }
  },
  {
   "cell_type": "markdown",
   "source": [
    "## 3. Troubleshooting HPO Failures\n",
    "\n",
    "Since the validation accuracy is smaller than grid search, we increase the time budget for HPO:"
   ],
   "metadata": {
    "collapsed": false,
    "pycharm": {
     "name": "#%% md\n"
    }
   }
  },
  {
   "cell_type": "code",
   "execution_count": null,
   "outputs": [],
   "source": [
    "GST = 600\n",
    "tune_hpo(4 * GST)"
   ],
   "metadata": {
    "collapsed": false,
    "pycharm": {
     "name": "#%%\n"
    }
   }
  },
  {
   "cell_type": "markdown",
   "source": [],
   "metadata": {
    "collapsed": false
   }
  }
 ],
 "metadata": {
  "kernelspec": {
   "display_name": "Python 3",
   "language": "python",
   "name": "python3"
  },
  "language_info": {
   "codemirror_mode": {
    "name": "ipython",
    "version": 3
   },
   "file_extension": ".py",
   "mimetype": "text/x-python",
   "name": "python",
   "nbconvert_exporter": "python",
   "pygments_lexer": "ipython3",
   "version": "3.8.10"
  }
 },
 "nbformat": 4,
 "nbformat_minor": 1
}