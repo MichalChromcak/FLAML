{
 "cells": [
  {
   "cell_type": "markdown",
   "metadata": {},
   "source": [
    "Copyright (c) 2020-2021. All rights reserved.\n",
    "\n",
    "Licensed under the MIT License.\n",
    "\n",
    "# HPO for Fine-Tuning Pre-trained Language Models\n",
    "\n",
    "*Running this notebook takes about one hour.\n",
    "\n",
    "## 1. Introduction\n",
    "\n",
    "\n",
    "In this notebook, we demonstrate a procedure for troubleshooting HPO failure in fine-tuning pre-trained language models (introduced in the following paper):\n",
    "\n",
    "*An Empirical Study on Hyperparameter Optimization for Fine-Tuning Pre-trained Language Models. Xueqing Liu, Chi Wang. To appear in ACL-IJCNLP 2021*\n",
    "\n",
    "FLAML requires `Python>=3.6`. To run this notebook example, please install flaml with the `notebook` and `nlp` options:\n",
    "```bash\n",
    "pip install flaml[nlp]\n",
    "```\n",
    "Our paper was developed under transformers version 3.4.0. We uninstall and reinstall transformers==3.4.0:"
   ]
  },
  {
   "cell_type": "code",
   "execution_count": null,
   "metadata": {
    "pycharm": {
     "name": "#%%\n"
    }
   },
   "outputs": [],
   "source": [
    "!pip install flaml[nlp]\n",
    "!pip install transformers==3.4.0\n",
    "from flaml.nlp import AutoTransformers\n"
   ]
  },
  {
   "cell_type": "markdown",
   "metadata": {},
   "source": [
    "## 2. Initial Experimental Study (Section 4)\n"
   ]
  },
  {
   "cell_type": "markdown",
   "metadata": {},
   "source": [
    "### Load dataset \n",
    "\n",
    "Load the dataset using AutoTransformer.prepare_data. In this notebook, we use the Microsoft Research Paraphrasing Corpus (MRPC) dataset and the Electra model as an example:"
   ]
  },
  {
   "cell_type": "code",
   "execution_count": 2,
   "metadata": {
    "pycharm": {
     "name": "#%%\n"
    }
   },
   "outputs": [
    {
     "name": "stdout",
     "output_type": "stream",
     "text": [
      "console_args has no attribute pretrained_model_size, continue\n",
      "console_args has no attribute dataset_subdataset_name, continue\n",
      "console_args has no attribute algo_mode, continue\n",
      "console_args has no attribute space_mode, continue\n",
      "console_args has no attribute search_alg_args_mode, continue\n",
      "console_args has no attribute algo_name, continue\n",
      "console_args has no attribute pruner, continue\n",
      "console_args has no attribute resplit_mode, continue\n",
      "console_args has no attribute rep_id, continue\n",
      "console_args has no attribute seed_data, continue\n",
      "console_args has no attribute seed_transformers, continue\n",
      "console_args has no attribute learning_rate, continue\n",
      "console_args has no attribute weight_decay, continue\n"
     ]
    },
    {
     "name": "stderr",
     "output_type": "stream",
     "text": [
      "Reusing dataset glue (/home/xliu127/.cache/huggingface/datasets/glue/mrpc/1.0.0/7c99657241149a24692c402a5c3f34d4c9f1df5ac2e4c3759fadea38f6cb29c4)\n",
      "Loading cached processed dataset at /home/xliu127/.cache/huggingface/datasets/glue/mrpc/1.0.0/7c99657241149a24692c402a5c3f34d4c9f1df5ac2e4c3759fadea38f6cb29c4/cache-6a78e5c95406457c.arrow\n",
      "Loading cached processed dataset at /home/xliu127/.cache/huggingface/datasets/glue/mrpc/1.0.0/7c99657241149a24692c402a5c3f34d4c9f1df5ac2e4c3759fadea38f6cb29c4/cache-e8d0f3e04c3b4588.arrow\n",
      "Loading cached processed dataset at /home/xliu127/.cache/huggingface/datasets/glue/mrpc/1.0.0/7c99657241149a24692c402a5c3f34d4c9f1df5ac2e4c3759fadea38f6cb29c4/cache-4b0966b394994163.arrow\n",
      "Loading cached processed dataset at /home/xliu127/.cache/huggingface/datasets/glue/mrpc/1.0.0/7c99657241149a24692c402a5c3f34d4c9f1df5ac2e4c3759fadea38f6cb29c4/cache-52e85ab7216b1e98.arrow\n",
      "Loading cached processed dataset at /home/xliu127/.cache/huggingface/datasets/glue/mrpc/1.0.0/7c99657241149a24692c402a5c3f34d4c9f1df5ac2e4c3759fadea38f6cb29c4/cache-f580e10e11ba92cb.arrow\n",
      "Loading cached processed dataset at /home/xliu127/.cache/huggingface/datasets/glue/mrpc/1.0.0/7c99657241149a24692c402a5c3f34d4c9f1df5ac2e4c3759fadea38f6cb29c4/cache-5a6d8f04bf59fe22.arrow\n"
     ]
    }
   ],
   "source": [
    "autohf = AutoTransformers()\n",
    "preparedata_setting = {\n",
    "        \"dataset_subdataset_name\": \"glue:mrpc\",\n",
    "        \"pretrained_model_size\": \"google/electra-base-discriminator:base\",\n",
    "        \"data_root_path\": \"data/\",\n",
    "        \"max_seq_length\": 128,\n",
    "        }\n",
    "autohf.prepare_data(**preparedata_setting)\n"
   ]
  },
  {
   "cell_type": "markdown",
   "metadata": {
    "pycharm": {
     "name": "#%% md\n"
    }
   },
   "source": [
    "### Running grid search\n",
    "\n",
    "First, we run grid search using Electra. By specifying `algo_mode=\"grid\"`, AutoTransformers will run the grid search algorithm. By specifying `space_mode=\"grid\"`, AutoTransformers will use the default grid search configuration recommended by the Electra paper:"
   ]
  },
  {
   "cell_type": "code",
   "execution_count": 3,
   "metadata": {
    "pycharm": {
     "name": "#%%\n"
    },
    "scrolled": true
   },
   "outputs": [
    {
     "data": {
      "text/html": [
       "== Status ==<br>Memory usage on this node: 14.2/376.6 GiB<br>Using FIFO scheduling algorithm.<br>Resources requested: 0/96 CPUs, 0/4 GPUs, 0.0/250.73 GiB heap, 0.0/76.9 GiB objects (0/1.0 accelerator_type:V100)<br>Current best trial: 92a66_00002 with accuracy=0.7254901960784313 and parameters={'learning_rate': 0.0001, 'weight_decay': 0.0, 'adam_epsilon': 1e-06, 'warmup_ratio': 0.1, 'per_device_train_batch_size': 32, 'hidden_dropout_prob': 0.1, 'attention_probs_dropout_prob': 0.1, 'num_train_epochs': 0.5, 'seed': 42}<br>Result logdir: /data/xliu127/projects/hyperopt/FLAML/data/checkpoint/dat=glue_subdat=mrpc_mod=grid_spa=grid_arg=dft_alg=grid_pru=None_pre=electra_presz=base_spt=ori_rep=0_sddt=43_sdhf=42_var1=None_var2=None/ray_result<br>Number of trials: 4/4 (4 TERMINATED)<br><br>"
      ],
      "text/plain": [
       "<IPython.core.display.HTML object>"
      ]
     },
     "metadata": {},
     "output_type": "display_data"
    },
    {
     "name": "stderr",
     "output_type": "stream",
     "text": [
      "2021-06-16 10:04:33,114\tINFO tune.py:450 -- Total run time: 149.77 seconds (149.63 seconds for the tuning loop).\n"
     ]
    },
    {
     "name": "stdout",
     "output_type": "stream",
     "text": [
      "Total running time: 149.798171043396 seconds\n"
     ]
    }
   ],
   "source": [
    "import transformers\n",
    "autohf_settings = {\"resources_per_trial\": {\"gpu\": 1, \"cpu\": 1},\n",
    "                   \"num_samples\": 1,\n",
    "                   \"time_budget\": 100000,  # unlimited time budget\n",
    "                   \"ckpt_per_epoch\": 5,\n",
    "                   \"fp16\": True,\n",
    "                   \"algo_mode\": \"grid\",  # set the search algorithm to grid search\n",
    "                   \"space_mode\": \"grid\", # set the search space to the recommended grid space\n",
    "                   \"transformers_verbose\": transformers.logging.ERROR\n",
    "                   }\n",
    "validation_metric, analysis = autohf.fit(**autohf_settings)"
   ]
  },
  {
   "cell_type": "markdown",
   "metadata": {},
   "source": [
    "Get the time for running grid search: "
   ]
  },
  {
   "cell_type": "code",
   "execution_count": 4,
   "metadata": {
    "pycharm": {
     "name": "#%%\n"
    }
   },
   "outputs": [
    {
     "name": "stdout",
     "output_type": "stream",
     "text": [
      "grid search for glue_mrpc took 149.798171043396 seconds\n"
     ]
    }
   ],
   "source": [
    "GST = autohf.last_run_duration\n",
    "print(\"grid search for {} took {} seconds\".format(autohf.jobid_config.get_jobid_full_data_name(), GST))"
   ]
  },
  {
   "cell_type": "markdown",
   "metadata": {},
   "source": [
    "After the HPO run finishes, generate the predictions and save it as a .zip file to be submitted to the glue website. Here we will need the library AzureUtils which is for storing the output information (e.g., analysis log, .zip file) locally and uploading the output to an azure blob container (e.g., if multiple jobs are executed in a cluster). If the azure key and container information is not specified, the output information will only be saved locally. "
   ]
  },
  {
   "cell_type": "code",
   "execution_count": 5,
   "metadata": {},
   "outputs": [
    {
     "name": "stderr",
     "output_type": "stream",
     "text": [
      "remove_columns_ is deprecated and will be removed in the next major version of datasets. Use the dataset.remove_columns method instead.\n"
     ]
    },
    {
     "name": "stdout",
     "output_type": "stream",
     "text": [
      "Cleaning the existing label column from test data\n"
     ]
    },
    {
     "data": {
      "text/html": [
       "\n",
       "    <div>\n",
       "        <style>\n",
       "            /* Turns off some styling */\n",
       "            progress {\n",
       "                /* gets rid of default border in Firefox and Opera. */\n",
       "                border: none;\n",
       "                /* Needs to be in here for Safari polyfill so background images work as expected. */\n",
       "                background-size: auto;\n",
       "            }\n",
       "        </style>\n",
       "      \n",
       "      <progress value='432' max='432' style='width:300px; height:20px; vertical-align: middle;'></progress>\n",
       "      [432/432 00:33]\n",
       "    </div>\n",
       "    "
      ],
      "text/plain": [
       "<IPython.core.display.HTML object>"
      ]
     },
     "metadata": {},
     "output_type": "display_data"
    },
    {
     "name": "stdout",
     "output_type": "stream",
     "text": [
      "JobID(dat=['glue'], subdat='mrpc', mod='grid', spa='grid', arg='dft', alg='grid', pru='None', pre_full='google/electra-base-discriminator', pre='electra', presz='base', spt='ori', rep=0, sddt=43, sdhf=42, var1=None, var2=None)\n",
      "Your output will not be synced to azure because azure key and container name are not specified\n",
      "The path for saving the prediction .zip file is not specified, setting to data/ by default\n",
      "Your output will not be synced to azure because azure key and container name are not specified\n",
      "{'eval_accuracy': 0.7254901960784313, 'eval_f1': 0.8276923076923076, 'eval_loss': 0.516851007938385}\n"
     ]
    }
   ],
   "source": [
    "predictions, test_metric = autohf.predict()\n",
    "from flaml.nlp.result_analysis.azure_utils import AzureUtils\n",
    "\n",
    "print(autohf.jobid_config)\n",
    "\n",
    "azure_utils = AzureUtils(root_log_path=\"logs_test/\", autohf=autohf)\n",
    "azure_utils.write_autohf_output(valid_metric=validation_metric,\n",
    "                                predictions=predictions,\n",
    "                                duration=GST)\n",
    "print(validation_metric)"
   ]
  },
  {
   "cell_type": "markdown",
   "metadata": {
    "pycharm": {
     "name": "#%% md\n"
    }
   },
   "source": [
    "The validation F1/accuracy we got was 92.4/89.5. After the above steps, you will find a .zip file for the predictions under data/result/. Submit the .zip file to the glue website. The test F1/accuracy we got was 90.4/86.7. As an example, we only run the experiment one time, but in general, we should run the experiment multiple repetitions and report the averaged validation and test accuracy."
   ]
  },
  {
   "cell_type": "markdown",
   "metadata": {
    "pycharm": {
     "name": "#%% md\n"
    }
   },
   "source": [
    "### Running Random Search\n",
    "\n",
    "Next, we run random search with the same time budget as grid search:"
   ]
  },
  {
   "cell_type": "code",
   "execution_count": 6,
   "metadata": {
    "pycharm": {
     "name": "#%%\n"
    }
   },
   "outputs": [],
   "source": [
    "def tune_hpo(time_budget, this_hpo_space):\n",
    "    autohf_settings = {\"resources_per_trial\": {\"gpu\": 1, \"cpu\": 1},\n",
    "                       \"num_samples\": -1,\n",
    "                       \"time_budget\": time_budget,\n",
    "                       \"ckpt_per_epoch\": 5,\n",
    "                       \"fp16\": True,\n",
    "                       \"algo_mode\": \"hpo\",  # set the search algorithm mode to hpo\n",
    "                       \"algo_name\": \"rs\",\n",
    "                       \"space_mode\": \"cus\", # customized search space (this_hpo_space)\n",
    "                       \"hpo_space\": this_hpo_space,\n",
    "                       \"transformers_verbose\": transformers.logging.ERROR\n",
    "                       }\n",
    "    validation_metric, analysis = autohf.fit(**autohf_settings)\n",
    "    predictions, test_metric = autohf.predict()\n",
    "    from flaml.nlp.result_analysis.azure_utils import AzureUtils\n",
    "    azure_utils = AzureUtils(root_log_path=\"logs_test/\", autohf=autohf)\n",
    "    azure_utils.write_autohf_output(valid_metric=validation_metric,\n",
    "                                    predictions=predictions,\n",
    "                                    duration= GST)\n",
    "    print(validation_metric)"
   ]
  },
  {
   "cell_type": "code",
   "execution_count": 7,
   "metadata": {},
   "outputs": [
    {
     "data": {
      "text/html": [
       "== Status ==<br>Memory usage on this node: 26.5/376.6 GiB<br>Using FIFO scheduling algorithm.<br>Resources requested: 0/96 CPUs, 0/4 GPUs, 0.0/247.51 GiB heap, 0.0/75.93 GiB objects (0/1.0 accelerator_type:V100)<br>Current best trial: 0b152_00003 with accuracy=0.7328431372549019 and parameters={'learning_rate': 4.030097060410288e-05, 'warmup_ratio': 0.06084844859190755, 'num_train_epochs': 0.5, 'per_device_train_batch_size': 16, 'weight_decay': 0.15742692948967135, 'attention_probs_dropout_prob': 0.08638900372842316, 'hidden_dropout_prob': 0.058245828039608386, 'seed': 42}<br>Result logdir: /data/xliu127/projects/hyperopt/FLAML/data/checkpoint/dat=glue_subdat=mrpc_mod=hpo_spa=cus_arg=dft_alg=rs_pru=None_pre=electra_presz=base_spt=ori_rep=0_sddt=43_sdhf=42_var1=None_var2=None/ray_result<br>Number of trials: 5/infinite (5 TERMINATED)<br><br>"
      ],
      "text/plain": [
       "<IPython.core.display.HTML object>"
      ]
     },
     "metadata": {},
     "output_type": "display_data"
    },
    {
     "name": "stdout",
     "output_type": "stream",
     "text": [
      "\u001B[2m\u001B[36m(pid=19568)\u001B[0m {'eval_loss': 0.5411379933357239, 'eval_accuracy': 0.7303921568627451, 'eval_f1': 0.8318042813455658, 'epoch': 0.5}\n",
      "\u001B[2m\u001B[36m(pid=19568)\u001B[0m {'eval_loss': 0.5411379933357239, 'eval_accuracy': 0.7303921568627451, 'eval_f1': 0.8318042813455658, 'epoch': 0.5}\n",
      "\u001B[2m\u001B[36m(pid=19563)\u001B[0m {'eval_loss': 0.5757343173027039, 'eval_accuracy': 0.7083333333333334, 'eval_f1': 0.8226527570789866, 'epoch': 0.5}\n",
      "\u001B[2m\u001B[36m(pid=19563)\u001B[0m {'eval_loss': 0.5757343173027039, 'eval_accuracy': 0.7083333333333334, 'eval_f1': 0.8226527570789866, 'epoch': 0.5}\n",
      "\u001B[2m\u001B[36m(pid=19567)\u001B[0m {'eval_loss': 0.628964900970459, 'eval_accuracy': 0.6838235294117647, 'eval_f1': 0.8122270742358079, 'epoch': 0.5}\n",
      "\u001B[2m\u001B[36m(pid=19567)\u001B[0m {'eval_loss': 0.628964900970459, 'eval_accuracy': 0.6838235294117647, 'eval_f1': 0.8122270742358079, 'epoch': 0.5}\n"
     ]
    },
    {
     "name": "stderr",
     "output_type": "stream",
     "text": [
      "2021-06-16 10:08:06,998\tINFO tune.py:450 -- Total run time: 161.60 seconds (150.69 seconds for the tuning loop).\n"
     ]
    },
    {
     "name": "stdout",
     "output_type": "stream",
     "text": [
      "Total running time: 161.6244192123413 seconds\n"
     ]
    },
    {
     "data": {
      "text/html": [
       "\n",
       "    <div>\n",
       "        <style>\n",
       "            /* Turns off some styling */\n",
       "            progress {\n",
       "                /* gets rid of default border in Firefox and Opera. */\n",
       "                border: none;\n",
       "                /* Needs to be in here for Safari polyfill so background images work as expected. */\n",
       "                background-size: auto;\n",
       "            }\n",
       "        </style>\n",
       "      \n",
       "      <progress value='432' max='432' style='width:300px; height:20px; vertical-align: middle;'></progress>\n",
       "      [432/432 00:34]\n",
       "    </div>\n",
       "    "
      ],
      "text/plain": [
       "<IPython.core.display.HTML object>"
      ]
     },
     "metadata": {},
     "output_type": "display_data"
    },
    {
     "name": "stdout",
     "output_type": "stream",
     "text": [
      "Your output will not be synced to azure because azure key and container name are not specified\n",
      "The path for saving the prediction .zip file is not specified, setting to data/ by default\n",
      "Your output will not be synced to azure because azure key and container name are not specified\n",
      "{'eval_accuracy': 0.7328431372549019, 'eval_f1': 0.8320493066255777, 'eval_loss': 0.5431155562400818}\n"
     ]
    }
   ],
   "source": [
    "hpo_space_full = {\n",
    "               \"learning_rate\": {\"l\": 3e-5, \"u\": 1.5e-4, \"space\": \"log\"},\n",
    "               \"warmup_ratio\": {\"l\": 0, \"u\": 0.2, \"space\": \"linear\"},\n",
    "               \"num_train_epochs\": [0.5],\n",
    "               \"per_device_train_batch_size\": [16, 32, 64],\n",
    "               \"weight_decay\": {\"l\": 0.0, \"u\": 0.3, \"space\": \"linear\"},\n",
    "               \"attention_probs_dropout_prob\": {\"l\": 0, \"u\": 0.2, \"space\": \"linear\"},\n",
    "               \"hidden_dropout_prob\": {\"l\": 0, \"u\": 0.2, \"space\": \"linear\"},\n",
    "            }\n",
    "\n",
    "tune_hpo(GST, hpo_space_full)"
   ]
  },
  {
   "cell_type": "markdown",
   "metadata": {
    "pycharm": {
     "name": "#%% md\n"
    }
   },
   "source": [
    "The validation F1/accuracy we got was 93.5/90.9. Similarly, we can submit the .zip file to the glue website. The test F1/accuaracy we got was 81.6/70.2. "
   ]
  },
  {
   "cell_type": "markdown",
   "metadata": {
    "pycharm": {
     "name": "#%% md\n"
    }
   },
   "source": [
    "## 3. Troubleshooting HPO Failures\n",
    "\n",
    "Since the validation accuracy is larger than grid search while the test accuracy is smaller, HPO has overfitting. We reduce the search space:"
   ]
  },
  {
   "cell_type": "code",
   "execution_count": 8,
   "metadata": {
    "pycharm": {
     "name": "#%%\n"
    }
   },
   "outputs": [
    {
     "data": {
      "text/html": [
       "== Status ==<br>Memory usage on this node: 29.8/376.6 GiB<br>Using FIFO scheduling algorithm.<br>Resources requested: 0/96 CPUs, 0/4 GPUs, 0.0/247.51 GiB heap, 0.0/75.93 GiB objects (0/1.0 accelerator_type:V100)<br>Current best trial: 84d3a_00001 with accuracy=0.7279411764705882 and parameters={'learning_rate': 3.856324792582339e-05, 'warmup_ratio': 0.1, 'num_train_epochs': 0.5, 'per_device_train_batch_size': 32, 'weight_decay': 0.04679835610086079, 'attention_probs_dropout_prob': 0.011616722433639893, 'hidden_dropout_prob': 0.17323522915498704, 'seed': 42}<br>Result logdir: /data/xliu127/projects/hyperopt/FLAML/data/checkpoint/dat=glue_subdat=mrpc_mod=hpo_spa=cus_arg=dft_alg=rs_pru=None_pre=electra_presz=base_spt=ori_rep=0_sddt=43_sdhf=42_var1=None_var2=None/ray_result<br>Number of trials: 5/infinite (5 TERMINATED)<br><br>"
      ],
      "text/plain": [
       "<IPython.core.display.HTML object>"
      ]
     },
     "metadata": {},
     "output_type": "display_data"
    },
    {
     "name": "stdout",
     "output_type": "stream",
     "text": [
      "\u001B[2m\u001B[36m(pid=22977)\u001B[0m {'eval_loss': 0.6253387928009033, 'eval_accuracy': 0.6838235294117647, 'eval_f1': 0.8122270742358079, 'epoch': 0.5043478260869565}\n",
      "\u001B[2m\u001B[36m(pid=22977)\u001B[0m {'eval_loss': 0.6253387928009033, 'eval_accuracy': 0.6838235294117647, 'eval_f1': 0.8122270742358079, 'epoch': 0.5043478260869565}\n",
      "\u001B[2m\u001B[36m(pid=22977)\u001B[0m {'eval_loss': 0.6253387928009033, 'eval_accuracy': 0.6838235294117647, 'eval_f1': 0.8122270742358079, 'epoch': 0.5043478260869565}\n",
      "\u001B[2m\u001B[36m(pid=22981)\u001B[0m {'eval_loss': 0.6236189007759094, 'eval_accuracy': 0.6838235294117647, 'eval_f1': 0.8122270742358079, 'epoch': 0.5043478260869565}\n",
      "\u001B[2m\u001B[36m(pid=22981)\u001B[0m {'eval_loss': 0.6236189007759094, 'eval_accuracy': 0.6838235294117647, 'eval_f1': 0.8122270742358079, 'epoch': 0.5043478260869565}\n",
      "\u001B[2m\u001B[36m(pid=22981)\u001B[0m {'eval_loss': 0.6236189007759094, 'eval_accuracy': 0.6838235294117647, 'eval_f1': 0.8122270742358079, 'epoch': 0.5043478260869565}\n"
     ]
    },
    {
     "name": "stderr",
     "output_type": "stream",
     "text": [
      "2021-06-16 10:11:27,073\tINFO tune.py:450 -- Total run time: 157.41 seconds (151.72 seconds for the tuning loop).\n"
     ]
    },
    {
     "name": "stdout",
     "output_type": "stream",
     "text": [
      "Total running time: 157.44810509681702 seconds\n"
     ]
    },
    {
     "data": {
      "text/html": [
       "\n",
       "    <div>\n",
       "        <style>\n",
       "            /* Turns off some styling */\n",
       "            progress {\n",
       "                /* gets rid of default border in Firefox and Opera. */\n",
       "                border: none;\n",
       "                /* Needs to be in here for Safari polyfill so background images work as expected. */\n",
       "                background-size: auto;\n",
       "            }\n",
       "        </style>\n",
       "      \n",
       "      <progress value='432' max='432' style='width:300px; height:20px; vertical-align: middle;'></progress>\n",
       "      [432/432 00:33]\n",
       "    </div>\n",
       "    "
      ],
      "text/plain": [
       "<IPython.core.display.HTML object>"
      ]
     },
     "metadata": {},
     "output_type": "display_data"
    },
    {
     "name": "stdout",
     "output_type": "stream",
     "text": [
      "Your output will not be synced to azure because azure key and container name are not specified\n",
      "The path for saving the prediction .zip file is not specified, setting to data/ by default\n",
      "Your output will not be synced to azure because azure key and container name are not specified\n",
      "{'eval_accuracy': 0.7279411764705882, 'eval_f1': 0.8268330733229329, 'eval_loss': 0.5298551321029663}\n"
     ]
    }
   ],
   "source": [
    "hpo_space_fixwr = {\n",
    "               \"learning_rate\": {\"l\": 3e-5, \"u\": 1.5e-4, \"space\": \"log\"},\n",
    "               \"warmup_ratio\": [0.1],\n",
    "               \"num_train_epochs\": [0.5],\n",
    "               \"per_device_train_batch_size\": [16, 32, 64],\n",
    "               \"weight_decay\": {\"l\": 0.0, \"u\": 0.3, \"space\": \"linear\"},\n",
    "               \"attention_probs_dropout_prob\": {\"l\": 0, \"u\": 0.2, \"space\": \"linear\"},\n",
    "               \"hidden_dropout_prob\": {\"l\": 0, \"u\": 0.2, \"space\": \"linear\"},\n",
    "            }\n",
    "tune_hpo(GST, hpo_space_fixwr)"
   ]
  },
  {
   "cell_type": "markdown",
   "metadata": {},
   "source": [
    "The validation F1/accuracy we got was 92.6/89.7, the test F1/accuracy was 85.9/78.7, therefore overfitting still exists and we further reduce the space: "
   ]
  },
  {
   "cell_type": "code",
   "execution_count": 9,
   "metadata": {
    "pycharm": {
     "name": "#%%\n"
    }
   },
   "outputs": [
    {
     "data": {
      "text/html": [
       "== Status ==<br>Memory usage on this node: 30.6/376.6 GiB<br>Using FIFO scheduling algorithm.<br>Resources requested: 0/96 CPUs, 0/4 GPUs, 0.0/247.17 GiB heap, 0.0/75.83 GiB objects (0/1.0 accelerator_type:V100)<br>Current best trial: fbf1c_00003 with accuracy=0.7058823529411765 and parameters={'learning_rate': 7.862589064613256e-05, 'warmup_ratio': 0.1, 'num_train_epochs': 0.5, 'per_device_train_batch_size': 32, 'weight_decay': 0.0, 'attention_probs_dropout_prob': 0.1, 'hidden_dropout_prob': 0.1, 'seed': 42}<br>Result logdir: /data/xliu127/projects/hyperopt/FLAML/data/checkpoint/dat=glue_subdat=mrpc_mod=hpo_spa=cus_arg=dft_alg=rs_pru=None_pre=electra_presz=base_spt=ori_rep=0_sddt=43_sdhf=42_var1=None_var2=None/ray_result<br>Number of trials: 5/infinite (5 TERMINATED)<br><br>"
      ],
      "text/plain": [
       "<IPython.core.display.HTML object>"
      ]
     },
     "metadata": {},
     "output_type": "display_data"
    },
    {
     "name": "stdout",
     "output_type": "stream",
     "text": [
      "\u001B[2m\u001B[36m(pid=26361)\u001B[0m {'eval_loss': 0.6146416664123535, 'eval_accuracy': 0.7107843137254902, 'eval_f1': 0.8233532934131738, 'epoch': 0.41739130434782606}\n",
      "\u001B[2m\u001B[36m(pid=26361)\u001B[0m {'eval_loss': 0.6146416664123535, 'eval_accuracy': 0.7107843137254902, 'eval_f1': 0.8233532934131738, 'epoch': 0.41739130434782606}\n",
      "\u001B[2m\u001B[36m(pid=26361)\u001B[0m {'eval_loss': 0.6146416664123535, 'eval_accuracy': 0.7107843137254902, 'eval_f1': 0.8233532934131738, 'epoch': 0.41739130434782606}\n",
      "\u001B[2m\u001B[36m(pid=26361)\u001B[0m {'eval_loss': 0.6146416664123535, 'eval_accuracy': 0.7107843137254902, 'eval_f1': 0.8233532934131738, 'epoch': 0.41739130434782606}\n",
      "\u001B[2m\u001B[36m(pid=26414)\u001B[0m {'eval_loss': 0.6239543557167053, 'eval_accuracy': 0.6838235294117647, 'eval_f1': 0.8122270742358079, 'epoch': 0.4}\n",
      "\u001B[2m\u001B[36m(pid=26414)\u001B[0m {'eval_loss': 0.6239543557167053, 'eval_accuracy': 0.6838235294117647, 'eval_f1': 0.8122270742358079, 'epoch': 0.4}\n",
      "\u001B[2m\u001B[36m(pid=26414)\u001B[0m {'eval_loss': 0.6239543557167053, 'eval_accuracy': 0.6838235294117647, 'eval_f1': 0.8122270742358079, 'epoch': 0.4}\n",
      "\u001B[2m\u001B[36m(pid=26414)\u001B[0m {'eval_loss': 0.6239543557167053, 'eval_accuracy': 0.6838235294117647, 'eval_f1': 0.8122270742358079, 'epoch': 0.4}\n",
      "\u001B[2m\u001B[36m(pid=26391)\u001B[0m {'eval_loss': 0.6056984066963196, 'eval_accuracy': 0.6838235294117647, 'eval_f1': 0.8122270742358079, 'epoch': 0.5}\n",
      "\u001B[2m\u001B[36m(pid=26391)\u001B[0m {'eval_loss': 0.6056984066963196, 'eval_accuracy': 0.6838235294117647, 'eval_f1': 0.8122270742358079, 'epoch': 0.5}\n",
      "\u001B[2m\u001B[36m(pid=26391)\u001B[0m {'eval_loss': 0.6056984066963196, 'eval_accuracy': 0.6838235294117647, 'eval_f1': 0.8122270742358079, 'epoch': 0.5}\n",
      "\u001B[2m\u001B[36m(pid=26391)\u001B[0m {'eval_loss': 0.6056984066963196, 'eval_accuracy': 0.6838235294117647, 'eval_f1': 0.8122270742358079, 'epoch': 0.5}\n",
      "\u001B[2m\u001B[36m(pid=26388)\u001B[0m {'eval_loss': 0.5486209392547607, 'eval_accuracy': 0.7034313725490197, 'eval_f1': 0.8141321044546851, 'epoch': 0.5}\n",
      "\u001B[2m\u001B[36m(pid=26388)\u001B[0m {'eval_loss': 0.5486209392547607, 'eval_accuracy': 0.7034313725490197, 'eval_f1': 0.8141321044546851, 'epoch': 0.5}\n",
      "\u001B[2m\u001B[36m(pid=26388)\u001B[0m {'eval_loss': 0.5486209392547607, 'eval_accuracy': 0.7034313725490197, 'eval_f1': 0.8141321044546851, 'epoch': 0.5}\n",
      "\u001B[2m\u001B[36m(pid=26388)\u001B[0m {'eval_loss': 0.5486209392547607, 'eval_accuracy': 0.7034313725490197, 'eval_f1': 0.8141321044546851, 'epoch': 0.5}\n"
     ]
    },
    {
     "name": "stderr",
     "output_type": "stream",
     "text": [
      "2021-06-16 10:15:00,567\tINFO tune.py:450 -- Total run time: 171.05 seconds (150.43 seconds for the tuning loop).\n"
     ]
    },
    {
     "name": "stdout",
     "output_type": "stream",
     "text": [
      "Total running time: 171.07985877990723 seconds\n"
     ]
    },
    {
     "data": {
      "text/html": [
       "\n",
       "    <div>\n",
       "        <style>\n",
       "            /* Turns off some styling */\n",
       "            progress {\n",
       "                /* gets rid of default border in Firefox and Opera. */\n",
       "                border: none;\n",
       "                /* Needs to be in here for Safari polyfill so background images work as expected. */\n",
       "                background-size: auto;\n",
       "            }\n",
       "        </style>\n",
       "      \n",
       "      <progress value='432' max='432' style='width:300px; height:20px; vertical-align: middle;'></progress>\n",
       "      [432/432 00:33]\n",
       "    </div>\n",
       "    "
      ],
      "text/plain": [
       "<IPython.core.display.HTML object>"
      ]
     },
     "metadata": {},
     "output_type": "display_data"
    },
    {
     "name": "stdout",
     "output_type": "stream",
     "text": [
      "Your output will not be synced to azure because azure key and container name are not specified\n",
      "The path for saving the prediction .zip file is not specified, setting to data/ by default\n",
      "Your output will not be synced to azure because azure key and container name are not specified\n",
      "{'eval_accuracy': 0.7181372549019608, 'eval_f1': 0.8174962292609351, 'eval_loss': 0.5494586229324341}\n"
     ]
    }
   ],
   "source": [
    "hpo_space_min = {\n",
    "               \"learning_rate\": {\"l\": 3e-5, \"u\": 1.5e-4, \"space\": \"log\"},\n",
    "               \"warmup_ratio\": [0.1],\n",
    "               \"num_train_epochs\": [0.5],\n",
    "               \"per_device_train_batch_size\": [16, 32, 64],\n",
    "               \"weight_decay\": [0.0],\n",
    "               \"attention_probs_dropout_prob\": [0.1],\n",
    "               \"hidden_dropout_prob\": [0.1],\n",
    "            }\n",
    "tune_hpo(GST, hpo_space_min)"
   ]
  },
  {
   "cell_type": "markdown",
   "metadata": {
    "pycharm": {
     "name": "#%% md\n"
    }
   },
   "source": [
    "The validation F1/accuracy we got was 90.4/86.7, test F1/accuracy was 83.0/73.0. Since the validation accuracy is below grid search, we increase the budget to 4 * GST:"
   ]
  },
  {
   "cell_type": "code",
   "execution_count": null,
   "metadata": {},
   "outputs": [
    {
     "data": {
      "text/html": [
       "== Status ==<br>Memory usage on this node: 30.4/376.6 GiB<br>Using FIFO scheduling algorithm.<br>Resources requested: 4/96 CPUs, 4/4 GPUs, 0.0/247.12 GiB heap, 0.0/75.83 GiB objects (0/1.0 accelerator_type:V100)<br>Current best trial: 7b205_00003 with accuracy=0.7058823529411765 and parameters={'learning_rate': 7.862589064613256e-05, 'warmup_ratio': 0.1, 'num_train_epochs': 0.5, 'per_device_train_batch_size': 32, 'weight_decay': 0.0, 'attention_probs_dropout_prob': 0.1, 'hidden_dropout_prob': 0.1, 'seed': 42}<br>Result logdir: /data/xliu127/projects/hyperopt/FLAML/data/checkpoint/dat=glue_subdat=mrpc_mod=hpo_spa=cus_arg=dft_alg=rs_pru=None_pre=electra_presz=base_spt=ori_rep=0_sddt=43_sdhf=42_var1=None_var2=None/ray_result<br>Number of trials: 7/infinite (1 PENDING, 4 RUNNING, 2 TERMINATED)<br><br>"
      ],
      "text/plain": [
       "<IPython.core.display.HTML object>"
      ]
     },
     "metadata": {},
     "output_type": "display_data"
    },
    {
     "name": "stdout",
     "output_type": "stream",
     "text": [
      "\u001B[2m\u001B[36m(pid=29786)\u001B[0m {'eval_loss': 0.5486209392547607, 'eval_accuracy': 0.7034313725490197, 'eval_f1': 0.8141321044546851, 'epoch': 0.5}\n",
      "\u001B[2m\u001B[36m(pid=29786)\u001B[0m {'eval_loss': 0.5486209392547607, 'eval_accuracy': 0.7034313725490197, 'eval_f1': 0.8141321044546851, 'epoch': 0.5}\n",
      "\u001B[2m\u001B[36m(pid=29786)\u001B[0m {'eval_loss': 0.5486209392547607, 'eval_accuracy': 0.7034313725490197, 'eval_f1': 0.8141321044546851, 'epoch': 0.5}\n",
      "\u001B[2m\u001B[36m(pid=29786)\u001B[0m {'eval_loss': 0.5486209392547607, 'eval_accuracy': 0.7034313725490197, 'eval_f1': 0.8141321044546851, 'epoch': 0.5}\n",
      "\u001B[2m\u001B[36m(pid=29786)\u001B[0m {'eval_loss': 0.5486209392547607, 'eval_accuracy': 0.7034313725490197, 'eval_f1': 0.8141321044546851, 'epoch': 0.5}\n"
     ]
    }
   ],
   "source": [
    "hpo_space_min = {\n",
    "               \"learning_rate\": {\"l\": 3e-5, \"u\": 1.5e-4, \"space\": \"log\"},\n",
    "               \"warmup_ratio\": [0.1],\n",
    "               \"num_train_epochs\": [0.5],\n",
    "               \"per_device_train_batch_size\": [16, 32, 64],\n",
    "               \"weight_decay\": [0.0],\n",
    "               \"attention_probs_dropout_prob\": [0.1],\n",
    "               \"hidden_dropout_prob\": [0.1],\n",
    "            }\n",
    "tune_hpo(4 * GST, hpo_space_min)"
   ]
  },
  {
   "cell_type": "markdown",
   "metadata": {},
   "source": [
    "The validation F1/accuracy we got was 92.3/89.7, where the accuracy outperforms grid search. The test F1/accuracy was 91.1/87.8. As a result, random search with 4*GST and the minimal search space `hpo_space_min` has outperformed grid search. We stop the troubleshooting process. "
   ]
  }
 ],
 "metadata": {
  "kernelspec": {
   "display_name": "Python 3",
   "language": "python",
   "name": "python3"
  },
  "language_info": {
   "codemirror_mode": {
    "name": "ipython",
    "version": 3
   },
   "file_extension": ".py",
   "mimetype": "text/x-python",
   "name": "python",
   "nbconvert_exporter": "python",
   "pygments_lexer": "ipython3",
   "version": "3.8.0"
  }
 },
 "nbformat": 4,
 "nbformat_minor": 1
}