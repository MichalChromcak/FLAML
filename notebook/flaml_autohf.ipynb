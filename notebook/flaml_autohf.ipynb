{
 "cells": [
  {
   "cell_type": "markdown",
   "metadata": {},
   "source": [
    "Copyright (c) 2020-2021. All rights reserved.\n",
    "\n",
    "Licensed under the MIT License.\n",
    "\n",
    "# HPO for Fine-Tuning Pre-trained Language Models\n",
    "\n",
    "\n",
    "## 1. Introduction\n",
    "\n",
    "\n",
    "In this notebook, we demonstrate a procedure for troubleshooting HPO failure in fine-tuning pre-trained language models (introduced in the following paper):\n",
    "\n",
    "*An Empirical Study on Hyperparameter Optimization for Fine-Tuning Pre-trained Language Models. Xueqing Liu, Chi Wang. To appear in ACL-IJCNLP 2021*\n",
    "\n",
    "FLAML requires `Python>=3.6`. To run this notebook example, please install flaml with the `notebook` and `nlp` options:\n",
    "```bash\n",
    "pip install flaml[acl2021]\n",
    "```"
   ]
  },
  {
   "cell_type": "code",
   "execution_count": 1,
   "metadata": {
    "pycharm": {
     "name": "#%%\n"
    }
   },
   "outputs": [
    {
     "name": "stdout",
     "output_type": "stream",
     "text": [
      "/data/xliu127/projects/hyperopt/FLAML\n",
      "running install\n",
      "running bdist_egg\n",
      "running egg_info\n",
      "writing FLAML.egg-info/PKG-INFO\n",
      "writing dependency_links to FLAML.egg-info/dependency_links.txt\n",
      "writing requirements to FLAML.egg-info/requires.txt\n",
      "writing top-level names to FLAML.egg-info/top_level.txt\n",
      "reading manifest file 'FLAML.egg-info/SOURCES.txt'\n",
      "writing manifest file 'FLAML.egg-info/SOURCES.txt'\n",
      "installing library code to build/bdist.linux-x86_64/egg\n",
      "running install_lib\n",
      "running build_py\n",
      "creating build/bdist.linux-x86_64/egg\n",
      "creating build/bdist.linux-x86_64/egg/flaml\n",
      "creating build/bdist.linux-x86_64/egg/flaml/tune\n",
      "copying build/lib/flaml/tune/trial.py -> build/bdist.linux-x86_64/egg/flaml/tune\n",
      "copying build/lib/flaml/tune/tune.py -> build/bdist.linux-x86_64/egg/flaml/tune\n",
      "copying build/lib/flaml/tune/sample.py -> build/bdist.linux-x86_64/egg/flaml/tune\n",
      "copying build/lib/flaml/tune/__init__.py -> build/bdist.linux-x86_64/egg/flaml/tune\n",
      "copying build/lib/flaml/tune/analysis.py -> build/bdist.linux-x86_64/egg/flaml/tune\n",
      "copying build/lib/flaml/tune/result.py -> build/bdist.linux-x86_64/egg/flaml/tune\n",
      "copying build/lib/flaml/tune/trial_runner.py -> build/bdist.linux-x86_64/egg/flaml/tune\n",
      "copying build/lib/flaml/config.py -> build/bdist.linux-x86_64/egg/flaml\n",
      "copying build/lib/flaml/ml.py -> build/bdist.linux-x86_64/egg/flaml\n",
      "copying build/lib/flaml/version.py -> build/bdist.linux-x86_64/egg/flaml\n",
      "creating build/bdist.linux-x86_64/egg/flaml/searcher\n",
      "copying build/lib/flaml/searcher/blendsearch.py -> build/bdist.linux-x86_64/egg/flaml/searcher\n",
      "copying build/lib/flaml/searcher/online_searcher.py -> build/bdist.linux-x86_64/egg/flaml/searcher\n",
      "copying build/lib/flaml/searcher/search_thread.py -> build/bdist.linux-x86_64/egg/flaml/searcher\n",
      "copying build/lib/flaml/searcher/__init__.py -> build/bdist.linux-x86_64/egg/flaml/searcher\n",
      "copying build/lib/flaml/searcher/suggestion.py -> build/bdist.linux-x86_64/egg/flaml/searcher\n",
      "copying build/lib/flaml/searcher/flow2.py -> build/bdist.linux-x86_64/egg/flaml/searcher\n",
      "copying build/lib/flaml/searcher/variant_generator.py -> build/bdist.linux-x86_64/egg/flaml/searcher\n",
      "copying build/lib/flaml/__init__.py -> build/bdist.linux-x86_64/egg/flaml\n",
      "copying build/lib/flaml/automl.py -> build/bdist.linux-x86_64/egg/flaml\n",
      "creating build/bdist.linux-x86_64/egg/flaml/onlineml\n",
      "copying build/lib/flaml/onlineml/trial.py -> build/bdist.linux-x86_64/egg/flaml/onlineml\n",
      "copying build/lib/flaml/onlineml/__init__.py -> build/bdist.linux-x86_64/egg/flaml/onlineml\n",
      "copying build/lib/flaml/onlineml/autovw.py -> build/bdist.linux-x86_64/egg/flaml/onlineml\n",
      "copying build/lib/flaml/onlineml/trial_runner.py -> build/bdist.linux-x86_64/egg/flaml/onlineml\n",
      "creating build/bdist.linux-x86_64/egg/flaml/nlp\n",
      "copying build/lib/flaml/nlp/autotransformers.py -> build/bdist.linux-x86_64/egg/flaml/nlp\n",
      "copying build/lib/flaml/nlp/utils.py -> build/bdist.linux-x86_64/egg/flaml/nlp\n",
      "copying build/lib/flaml/nlp/__init__.py -> build/bdist.linux-x86_64/egg/flaml/nlp\n",
      "creating build/bdist.linux-x86_64/egg/flaml/nlp/dataset\n",
      "copying build/lib/flaml/nlp/dataset/__init__.py -> build/bdist.linux-x86_64/egg/flaml/nlp/dataset\n",
      "copying build/lib/flaml/nlp/dataset/submission_auto.py -> build/bdist.linux-x86_64/egg/flaml/nlp/dataset\n",
      "copying build/lib/flaml/nlp/dataset/dataprocess_auto.py -> build/bdist.linux-x86_64/egg/flaml/nlp/dataset\n",
      "copying build/lib/flaml/nlp/dataset/metric_auto.py -> build/bdist.linux-x86_64/egg/flaml/nlp/dataset\n",
      "copying build/lib/flaml/nlp/dataset/sentence_keys_auto.py -> build/bdist.linux-x86_64/egg/flaml/nlp/dataset\n",
      "copying build/lib/flaml/nlp/dataset/task_auto.py -> build/bdist.linux-x86_64/egg/flaml/nlp/dataset\n",
      "creating build/bdist.linux-x86_64/egg/flaml/nlp/huggingface\n",
      "copying build/lib/flaml/nlp/huggingface/trainer.py -> build/bdist.linux-x86_64/egg/flaml/nlp/huggingface\n",
      "copying build/lib/flaml/nlp/huggingface/__init__.py -> build/bdist.linux-x86_64/egg/flaml/nlp/huggingface\n",
      "copying build/lib/flaml/nlp/huggingface/switch_head_auto.py -> build/bdist.linux-x86_64/egg/flaml/nlp/huggingface\n",
      "creating build/bdist.linux-x86_64/egg/flaml/nlp/result_analysis\n",
      "copying build/lib/flaml/nlp/result_analysis/__init__.py -> build/bdist.linux-x86_64/egg/flaml/nlp/result_analysis\n",
      "copying build/lib/flaml/nlp/result_analysis/azure_utils.py -> build/bdist.linux-x86_64/egg/flaml/nlp/result_analysis\n",
      "copying build/lib/flaml/nlp/result_analysis/wandb_utils.py -> build/bdist.linux-x86_64/egg/flaml/nlp/result_analysis\n",
      "creating build/bdist.linux-x86_64/egg/flaml/nlp/hpo\n",
      "copying build/lib/flaml/nlp/hpo/scheduler_auto.py -> build/bdist.linux-x86_64/egg/flaml/nlp/hpo\n",
      "copying build/lib/flaml/nlp/hpo/hpo_searchspace.py -> build/bdist.linux-x86_64/egg/flaml/nlp/hpo\n",
      "copying build/lib/flaml/nlp/hpo/__init__.py -> build/bdist.linux-x86_64/egg/flaml/nlp/hpo\n",
      "copying build/lib/flaml/nlp/hpo/grid_searchspace_auto.py -> build/bdist.linux-x86_64/egg/flaml/nlp/hpo\n",
      "copying build/lib/flaml/nlp/hpo/get_grid_search_space.py -> build/bdist.linux-x86_64/egg/flaml/nlp/hpo\n",
      "copying build/lib/flaml/nlp/hpo/searchalgo_auto.py -> build/bdist.linux-x86_64/egg/flaml/nlp/hpo\n",
      "copying build/lib/flaml/training_log.py -> build/bdist.linux-x86_64/egg/flaml\n",
      "copying build/lib/flaml/data.py -> build/bdist.linux-x86_64/egg/flaml\n",
      "creating build/bdist.linux-x86_64/egg/flaml/scheduler\n",
      "copying build/lib/flaml/scheduler/trial_scheduler.py -> build/bdist.linux-x86_64/egg/flaml/scheduler\n",
      "copying build/lib/flaml/scheduler/__init__.py -> build/bdist.linux-x86_64/egg/flaml/scheduler\n",
      "copying build/lib/flaml/scheduler/online_scheduler.py -> build/bdist.linux-x86_64/egg/flaml/scheduler\n",
      "copying build/lib/flaml/model.py -> build/bdist.linux-x86_64/egg/flaml\n",
      "creating build/bdist.linux-x86_64/egg/test\n",
      "copying build/lib/test/test_autovw.py -> build/bdist.linux-x86_64/egg/test\n",
      "creating build/bdist.linux-x86_64/egg/test/tune\n",
      "copying build/lib/test/tune/__init__.py -> build/bdist.linux-x86_64/egg/test/tune\n",
      "copying build/lib/test/tune/test_tune.py -> build/bdist.linux-x86_64/egg/test/tune\n",
      "copying build/lib/test/test_split.py -> build/bdist.linux-x86_64/egg/test\n",
      "copying build/lib/test/test_pytorch_cifar10.py -> build/bdist.linux-x86_64/egg/test\n",
      "copying build/lib/test/test_restore.py -> build/bdist.linux-x86_64/egg/test\n",
      "copying build/lib/test/__init__.py -> build/bdist.linux-x86_64/egg/test\n",
      "copying build/lib/test/test_training_log.py -> build/bdist.linux-x86_64/egg/test\n",
      "copying build/lib/test/test_python_log.py -> build/bdist.linux-x86_64/egg/test\n",
      "copying build/lib/test/test_version.py -> build/bdist.linux-x86_64/egg/test\n",
      "copying build/lib/test/run_electra.py -> build/bdist.linux-x86_64/egg/test\n",
      "copying build/lib/test/test_xgboost2d.py -> build/bdist.linux-x86_64/egg/test\n",
      "copying build/lib/test/test_xgboost2d_sample_size.py -> build/bdist.linux-x86_64/egg/test\n",
      "copying build/lib/test/test_automl.py -> build/bdist.linux-x86_64/egg/test\n",
      "byte-compiling build/bdist.linux-x86_64/egg/flaml/tune/trial.py to trial.cpython-38.pyc\n",
      "byte-compiling build/bdist.linux-x86_64/egg/flaml/tune/tune.py to tune.cpython-38.pyc\n",
      "byte-compiling build/bdist.linux-x86_64/egg/flaml/tune/sample.py to sample.cpython-38.pyc\n",
      "byte-compiling build/bdist.linux-x86_64/egg/flaml/tune/__init__.py to __init__.cpython-38.pyc\n",
      "byte-compiling build/bdist.linux-x86_64/egg/flaml/tune/analysis.py to analysis.cpython-38.pyc\n",
      "byte-compiling build/bdist.linux-x86_64/egg/flaml/tune/result.py to result.cpython-38.pyc\n",
      "byte-compiling build/bdist.linux-x86_64/egg/flaml/tune/trial_runner.py to trial_runner.cpython-38.pyc\n",
      "byte-compiling build/bdist.linux-x86_64/egg/flaml/config.py to config.cpython-38.pyc\n",
      "byte-compiling build/bdist.linux-x86_64/egg/flaml/ml.py to ml.cpython-38.pyc\n",
      "byte-compiling build/bdist.linux-x86_64/egg/flaml/version.py to version.cpython-38.pyc\n",
      "byte-compiling build/bdist.linux-x86_64/egg/flaml/searcher/blendsearch.py to blendsearch.cpython-38.pyc\n",
      "byte-compiling build/bdist.linux-x86_64/egg/flaml/searcher/online_searcher.py to online_searcher.cpython-38.pyc\n",
      "byte-compiling build/bdist.linux-x86_64/egg/flaml/searcher/search_thread.py to search_thread.cpython-38.pyc\n",
      "byte-compiling build/bdist.linux-x86_64/egg/flaml/searcher/__init__.py to __init__.cpython-38.pyc\n",
      "byte-compiling build/bdist.linux-x86_64/egg/flaml/searcher/suggestion.py to suggestion.cpython-38.pyc\n",
      "byte-compiling build/bdist.linux-x86_64/egg/flaml/searcher/flow2.py to flow2.cpython-38.pyc\n",
      "byte-compiling build/bdist.linux-x86_64/egg/flaml/searcher/variant_generator.py to variant_generator.cpython-38.pyc\n",
      "byte-compiling build/bdist.linux-x86_64/egg/flaml/__init__.py to __init__.cpython-38.pyc\n",
      "byte-compiling build/bdist.linux-x86_64/egg/flaml/automl.py to automl.cpython-38.pyc\n",
      "byte-compiling build/bdist.linux-x86_64/egg/flaml/onlineml/trial.py to trial.cpython-38.pyc\n",
      "byte-compiling build/bdist.linux-x86_64/egg/flaml/onlineml/__init__.py to __init__.cpython-38.pyc\n",
      "byte-compiling build/bdist.linux-x86_64/egg/flaml/onlineml/autovw.py to autovw.cpython-38.pyc\n",
      "byte-compiling build/bdist.linux-x86_64/egg/flaml/onlineml/trial_runner.py to trial_runner.cpython-38.pyc\n",
      "byte-compiling build/bdist.linux-x86_64/egg/flaml/nlp/autotransformers.py to autotransformers.cpython-38.pyc\n",
      "byte-compiling build/bdist.linux-x86_64/egg/flaml/nlp/utils.py to utils.cpython-38.pyc\n",
      "byte-compiling build/bdist.linux-x86_64/egg/flaml/nlp/__init__.py to __init__.cpython-38.pyc\n",
      "byte-compiling build/bdist.linux-x86_64/egg/flaml/nlp/dataset/__init__.py to __init__.cpython-38.pyc\n",
      "byte-compiling build/bdist.linux-x86_64/egg/flaml/nlp/dataset/submission_auto.py to submission_auto.cpython-38.pyc\n",
      "byte-compiling build/bdist.linux-x86_64/egg/flaml/nlp/dataset/dataprocess_auto.py to dataprocess_auto.cpython-38.pyc\n",
      "byte-compiling build/bdist.linux-x86_64/egg/flaml/nlp/dataset/metric_auto.py to metric_auto.cpython-38.pyc\n",
      "byte-compiling build/bdist.linux-x86_64/egg/flaml/nlp/dataset/sentence_keys_auto.py to sentence_keys_auto.cpython-38.pyc\n",
      "byte-compiling build/bdist.linux-x86_64/egg/flaml/nlp/dataset/task_auto.py to task_auto.cpython-38.pyc\n",
      "byte-compiling build/bdist.linux-x86_64/egg/flaml/nlp/huggingface/trainer.py to trainer.cpython-38.pyc\n",
      "byte-compiling build/bdist.linux-x86_64/egg/flaml/nlp/huggingface/__init__.py to __init__.cpython-38.pyc\n",
      "byte-compiling build/bdist.linux-x86_64/egg/flaml/nlp/huggingface/switch_head_auto.py to switch_head_auto.cpython-38.pyc\n",
      "byte-compiling build/bdist.linux-x86_64/egg/flaml/nlp/result_analysis/__init__.py to __init__.cpython-38.pyc\n",
      "byte-compiling build/bdist.linux-x86_64/egg/flaml/nlp/result_analysis/azure_utils.py to azure_utils.cpython-38.pyc\n",
      "byte-compiling build/bdist.linux-x86_64/egg/flaml/nlp/result_analysis/wandb_utils.py to wandb_utils.cpython-38.pyc\n",
      "byte-compiling build/bdist.linux-x86_64/egg/flaml/nlp/hpo/scheduler_auto.py to scheduler_auto.cpython-38.pyc\n",
      "byte-compiling build/bdist.linux-x86_64/egg/flaml/nlp/hpo/hpo_searchspace.py to hpo_searchspace.cpython-38.pyc\n",
      "byte-compiling build/bdist.linux-x86_64/egg/flaml/nlp/hpo/__init__.py to __init__.cpython-38.pyc\n",
      "byte-compiling build/bdist.linux-x86_64/egg/flaml/nlp/hpo/grid_searchspace_auto.py to grid_searchspace_auto.cpython-38.pyc\n",
      "byte-compiling build/bdist.linux-x86_64/egg/flaml/nlp/hpo/get_grid_search_space.py to get_grid_search_space.cpython-38.pyc\n",
      "byte-compiling build/bdist.linux-x86_64/egg/flaml/nlp/hpo/searchalgo_auto.py to searchalgo_auto.cpython-38.pyc\n",
      "byte-compiling build/bdist.linux-x86_64/egg/flaml/training_log.py to training_log.cpython-38.pyc\n",
      "byte-compiling build/bdist.linux-x86_64/egg/flaml/data.py to data.cpython-38.pyc\n"
     ]
    },
    {
     "name": "stdout",
     "output_type": "stream",
     "text": [
      "byte-compiling build/bdist.linux-x86_64/egg/flaml/scheduler/trial_scheduler.py to trial_scheduler.cpython-38.pyc\n",
      "byte-compiling build/bdist.linux-x86_64/egg/flaml/scheduler/__init__.py to __init__.cpython-38.pyc\n",
      "byte-compiling build/bdist.linux-x86_64/egg/flaml/scheduler/online_scheduler.py to online_scheduler.cpython-38.pyc\n",
      "byte-compiling build/bdist.linux-x86_64/egg/flaml/model.py to model.cpython-38.pyc\n",
      "byte-compiling build/bdist.linux-x86_64/egg/test/test_autovw.py to test_autovw.cpython-38.pyc\n",
      "byte-compiling build/bdist.linux-x86_64/egg/test/tune/__init__.py to __init__.cpython-38.pyc\n",
      "byte-compiling build/bdist.linux-x86_64/egg/test/tune/test_tune.py to test_tune.cpython-38.pyc\n",
      "byte-compiling build/bdist.linux-x86_64/egg/test/test_split.py to test_split.cpython-38.pyc\n",
      "byte-compiling build/bdist.linux-x86_64/egg/test/test_pytorch_cifar10.py to test_pytorch_cifar10.cpython-38.pyc\n",
      "byte-compiling build/bdist.linux-x86_64/egg/test/test_restore.py to test_restore.cpython-38.pyc\n",
      "byte-compiling build/bdist.linux-x86_64/egg/test/__init__.py to __init__.cpython-38.pyc\n",
      "byte-compiling build/bdist.linux-x86_64/egg/test/test_training_log.py to test_training_log.cpython-38.pyc\n",
      "byte-compiling build/bdist.linux-x86_64/egg/test/test_python_log.py to test_python_log.cpython-38.pyc\n",
      "byte-compiling build/bdist.linux-x86_64/egg/test/test_version.py to test_version.cpython-38.pyc\n",
      "byte-compiling build/bdist.linux-x86_64/egg/test/run_electra.py to run_electra.cpython-38.pyc\n",
      "byte-compiling build/bdist.linux-x86_64/egg/test/test_xgboost2d.py to test_xgboost2d.cpython-38.pyc\n",
      "byte-compiling build/bdist.linux-x86_64/egg/test/test_xgboost2d_sample_size.py to test_xgboost2d_sample_size.cpython-38.pyc\n",
      "byte-compiling build/bdist.linux-x86_64/egg/test/test_automl.py to test_automl.cpython-38.pyc\n",
      "creating build/bdist.linux-x86_64/egg/EGG-INFO\n",
      "copying FLAML.egg-info/PKG-INFO -> build/bdist.linux-x86_64/egg/EGG-INFO\n",
      "copying FLAML.egg-info/SOURCES.txt -> build/bdist.linux-x86_64/egg/EGG-INFO\n",
      "copying FLAML.egg-info/dependency_links.txt -> build/bdist.linux-x86_64/egg/EGG-INFO\n",
      "copying FLAML.egg-info/requires.txt -> build/bdist.linux-x86_64/egg/EGG-INFO\n",
      "copying FLAML.egg-info/top_level.txt -> build/bdist.linux-x86_64/egg/EGG-INFO\n",
      "zip_safe flag not set; analyzing archive contents...\n",
      "creating 'dist/FLAML-0.5.2-py3.8.egg' and adding 'build/bdist.linux-x86_64/egg' to it\n",
      "removing 'build/bdist.linux-x86_64/egg' (and everything under it)\n",
      "Processing FLAML-0.5.2-py3.8.egg\n",
      "Removing /data/installation/anaconda3/envs/tmp/lib/python3.8/site-packages/FLAML-0.5.2-py3.8.egg\n",
      "Copying FLAML-0.5.2-py3.8.egg to /data/installation/anaconda3/envs/tmp/lib/python3.8/site-packages\n",
      "FLAML 0.5.2 is already the active version in easy-install.pth\n",
      "\n",
      "Installed /data/installation/anaconda3/envs/tmp/lib/python3.8/site-packages/FLAML-0.5.2-py3.8.egg\n",
      "Processing dependencies for FLAML==0.5.2\n",
      "Searching for scikit-learn==0.24.1\n",
      "Best match: scikit-learn 0.24.1\n",
      "Adding scikit-learn 0.24.1 to easy-install.pth file\n",
      "\n",
      "Using /home/xliu127/.local/lib/python3.8/site-packages\n",
      "Searching for catboost==0.25.1\n",
      "Best match: catboost 0.25.1\n",
      "Adding catboost 0.25.1 to easy-install.pth file\n",
      "\n",
      "Using /home/xliu127/.local/lib/python3.8/site-packages\n",
      "Searching for scipy==1.6.2\n",
      "Best match: scipy 1.6.2\n",
      "Adding scipy 1.6.2 to easy-install.pth file\n",
      "\n",
      "Using /home/xliu127/.local/lib/python3.8/site-packages\n",
      "Searching for xgboost==1.4.2\n",
      "Best match: xgboost 1.4.2\n",
      "Processing xgboost-1.4.2-py3.8-linux-x86_64.egg\n",
      "xgboost 1.4.2 is already the active version in easy-install.pth\n",
      "\n",
      "Using /data/installation/anaconda3/envs/tmp/lib/python3.8/site-packages/xgboost-1.4.2-py3.8-linux-x86_64.egg\n",
      "Searching for lightgbm==3.2.1\n",
      "Best match: lightgbm 3.2.1\n",
      "Adding lightgbm 3.2.1 to easy-install.pth file\n",
      "\n",
      "Using /home/xliu127/.local/lib/python3.8/site-packages\n",
      "Searching for numpy==1.20.2\n",
      "Best match: numpy 1.20.2\n",
      "Adding numpy 1.20.2 to easy-install.pth file\n",
      "Installing f2py script to /data/installation/anaconda3/envs/tmp/bin\n",
      "Installing f2py3 script to /data/installation/anaconda3/envs/tmp/bin\n",
      "Installing f2py3.8 script to /data/installation/anaconda3/envs/tmp/bin\n",
      "\n",
      "Using /home/xliu127/.local/lib/python3.8/site-packages\n",
      "Searching for joblib==1.0.1\n",
      "Best match: joblib 1.0.1\n",
      "Adding joblib 1.0.1 to easy-install.pth file\n",
      "\n",
      "Using /home/xliu127/.local/lib/python3.8/site-packages\n",
      "Searching for threadpoolctl==2.1.0\n",
      "Best match: threadpoolctl 2.1.0\n",
      "Adding threadpoolctl 2.1.0 to easy-install.pth file\n",
      "\n",
      "Using /home/xliu127/.local/lib/python3.8/site-packages\n",
      "Searching for pandas==1.2.4\n",
      "Best match: pandas 1.2.4\n",
      "Adding pandas 1.2.4 to easy-install.pth file\n",
      "\n",
      "Using /home/xliu127/.local/lib/python3.8/site-packages\n",
      "Searching for plotly==4.14.3\n",
      "Best match: plotly 4.14.3\n",
      "Adding plotly 4.14.3 to easy-install.pth file\n",
      "\n",
      "Using /home/xliu127/.local/lib/python3.8/site-packages\n",
      "Searching for six==1.15.0\n",
      "Best match: six 1.15.0\n",
      "Adding six 1.15.0 to easy-install.pth file\n",
      "\n",
      "Using /home/xliu127/.local/lib/python3.8/site-packages\n",
      "Searching for graphviz==0.16\n",
      "Best match: graphviz 0.16\n",
      "Adding graphviz 0.16 to easy-install.pth file\n",
      "\n",
      "Using /home/xliu127/.local/lib/python3.8/site-packages\n",
      "Searching for matplotlib==3.4.2\n",
      "Best match: matplotlib 3.4.2\n",
      "Processing matplotlib-3.4.2-py3.8-linux-x86_64.egg\n",
      "matplotlib 3.4.2 is already the active version in easy-install.pth\n",
      "\n",
      "Using /data/installation/anaconda3/envs/tmp/lib/python3.8/site-packages/matplotlib-3.4.2-py3.8-linux-x86_64.egg\n",
      "Searching for wheel==0.36.2\n",
      "Best match: wheel 0.36.2\n",
      "Processing wheel-0.36.2-py3.8.egg\n",
      "wheel 0.36.2 is already the active version in easy-install.pth\n",
      "Installing wheel script to /data/installation/anaconda3/envs/tmp/bin\n",
      "\n",
      "Using /data/installation/anaconda3/envs/tmp/lib/python3.8/site-packages/wheel-0.36.2-py3.8.egg\n",
      "Searching for pytz==2021.1\n",
      "Best match: pytz 2021.1\n",
      "Adding pytz 2021.1 to easy-install.pth file\n",
      "\n",
      "Using /home/xliu127/.local/lib/python3.8/site-packages\n",
      "Searching for python-dateutil==2.8.1\n",
      "Best match: python-dateutil 2.8.1\n",
      "Adding python-dateutil 2.8.1 to easy-install.pth file\n",
      "\n",
      "Using /home/xliu127/.local/lib/python3.8/site-packages\n",
      "Searching for retrying==1.3.3\n",
      "Best match: retrying 1.3.3\n",
      "Adding retrying 1.3.3 to easy-install.pth file\n",
      "\n",
      "Using /home/xliu127/.local/lib/python3.8/site-packages\n",
      "Searching for pyparsing==2.4.7\n",
      "Best match: pyparsing 2.4.7\n",
      "Adding pyparsing 2.4.7 to easy-install.pth file\n",
      "\n",
      "Using /home/xliu127/.local/lib/python3.8/site-packages\n",
      "Searching for Pillow==8.2.0\n",
      "Best match: Pillow 8.2.0\n",
      "Adding Pillow 8.2.0 to easy-install.pth file\n",
      "\n",
      "Using /home/xliu127/.local/lib/python3.8/site-packages\n",
      "Searching for kiwisolver==1.3.1\n",
      "Best match: kiwisolver 1.3.1\n",
      "Adding kiwisolver 1.3.1 to easy-install.pth file\n",
      "\n",
      "Using /home/xliu127/.local/lib/python3.8/site-packages\n",
      "Searching for cycler==0.10.0\n",
      "Best match: cycler 0.10.0\n",
      "Adding cycler 0.10.0 to easy-install.pth file\n",
      "\n",
      "Using /home/xliu127/.local/lib/python3.8/site-packages\n",
      "Finished processing dependencies for FLAML==0.5.2\n",
      "from .autotransformers import AutoTransformers\n",
      "from .result_analysis.azure_utils import AzureUtils, JobID\n",
      "\n",
      "\n"
     ]
    }
   ],
   "source": [
    "%cd /data/xliu127/projects/hyperopt/FLAML/\n",
    "!python setup.py install\n",
    "from flaml.nlp import AutoTransformers\n",
    "\n",
    "import flaml\n",
    "import inspect\n",
    "print(inspect.getsource(flaml.nlp))\n"
   ]
  },
  {
   "cell_type": "markdown",
   "metadata": {},
   "source": [
    "## 2. Initial Experimental Study (Section 4)\n"
   ]
  },
  {
   "cell_type": "markdown",
   "metadata": {},
   "source": [
    "### Load dataset \n",
    "\n",
    "Load the dataset using AutoTransformer.prepare_data. In this notebook, we use the Recognizing Textual Entailment (RTE) dataset and the Electra model as an example:"
   ]
  },
  {
   "cell_type": "code",
   "execution_count": 2,
   "metadata": {
    "pycharm": {
     "name": "#%%\n"
    }
   },
   "outputs": [
    {
     "name": "stdout",
     "output_type": "stream",
     "text": [
      "console_args has no attribute pretrained_model_size, continue\n",
      "console_args has no attribute dataset_subdataset_name, continue\n",
      "console_args has no attribute algo_mode, continue\n",
      "console_args has no attribute space_mode, continue\n",
      "console_args has no attribute search_alg_args_mode, continue\n",
      "console_args has no attribute algo_name, continue\n",
      "console_args has no attribute pruner, continue\n",
      "console_args has no attribute resplit_mode, continue\n",
      "console_args has no attribute rep_id, continue\n",
      "console_args has no attribute seed_data, continue\n",
      "console_args has no attribute seed_transformers, continue\n",
      "console_args has no attribute optarg1, continue\n",
      "console_args has no attribute optarg2, continue\n"
     ]
    },
    {
     "name": "stderr",
     "output_type": "stream",
     "text": [
      "Reusing dataset glue (/home/xliu127/.cache/huggingface/datasets/glue/mrpc/1.0.0/7c99657241149a24692c402a5c3f34d4c9f1df5ac2e4c3759fadea38f6cb29c4)\n",
      "Loading cached processed dataset at /home/xliu127/.cache/huggingface/datasets/glue/mrpc/1.0.0/7c99657241149a24692c402a5c3f34d4c9f1df5ac2e4c3759fadea38f6cb29c4/cache-52e85ab7216b1e98.arrow\n",
      "Loading cached processed dataset at /home/xliu127/.cache/huggingface/datasets/glue/mrpc/1.0.0/7c99657241149a24692c402a5c3f34d4c9f1df5ac2e4c3759fadea38f6cb29c4/cache-f580e10e11ba92cb.arrow\n",
      "Loading cached processed dataset at /home/xliu127/.cache/huggingface/datasets/glue/mrpc/1.0.0/7c99657241149a24692c402a5c3f34d4c9f1df5ac2e4c3759fadea38f6cb29c4/cache-5a6d8f04bf59fe22.arrow\n",
      "Loading cached processed dataset at /home/xliu127/.cache/huggingface/datasets/glue/mrpc/1.0.0/7c99657241149a24692c402a5c3f34d4c9f1df5ac2e4c3759fadea38f6cb29c4/cache-52e85ab7216b1e98.arrow\n",
      "Loading cached processed dataset at /home/xliu127/.cache/huggingface/datasets/glue/mrpc/1.0.0/7c99657241149a24692c402a5c3f34d4c9f1df5ac2e4c3759fadea38f6cb29c4/cache-f580e10e11ba92cb.arrow\n",
      "Loading cached processed dataset at /home/xliu127/.cache/huggingface/datasets/glue/mrpc/1.0.0/7c99657241149a24692c402a5c3f34d4c9f1df5ac2e4c3759fadea38f6cb29c4/cache-5a6d8f04bf59fe22.arrow\n"
     ]
    }
   ],
   "source": [
    "autohf = AutoTransformers()\n",
    "preparedata_setting = {\n",
    "        \"dataset_subdataset_name\": \"glue:mrpc\",\n",
    "        \"pretrained_model_size\": \"google/electra-base-discriminator:base\",\n",
    "        \"data_root_path\": \"data/\",\n",
    "        \"max_seq_length\": 128,\n",
    "        }\n",
    "autohf.prepare_data(**preparedata_setting)\n"
   ]
  },
  {
   "cell_type": "markdown",
   "metadata": {
    "pycharm": {
     "name": "#%% md\n"
    }
   },
   "source": [
    "### Running grid search\n",
    "\n",
    "First, we run grid search using Electra. By specifying `algo_mode=\"grid\"`, AutoTransformers will run the grid search algorithm. By specifying `space_mode=\"grid\"`, AutoTransformers will use the default grid search configuration recommended by the Electra paper:"
   ]
  },
  {
   "cell_type": "code",
   "execution_count": 3,
   "metadata": {
    "pycharm": {
     "name": "#%%\n"
    },
    "scrolled": true
   },
   "outputs": [
    {
     "data": {
      "text/html": [
       "== Status ==<br>Memory usage on this node: 14.1/376.6 GiB<br>Using FIFO scheduling algorithm.<br>Resources requested: 0/96 CPUs, 0/4 GPUs, 0.0/250.73 GiB heap, 0.0/76.86 GiB objects (0/1.0 accelerator_type:V100)<br>Current best trial: 10b84_00000 with accuracy=0.8897058823529411 and parameters={'learning_rate': 3e-05, 'weight_decay': 0.0, 'adam_epsilon': 1e-06, 'warmup_ratio': 0.1, 'per_device_train_batch_size': 32, 'hidden_dropout_prob': 0.1, 'attention_probs_dropout_prob': 0.1, 'num_train_epochs': 3, 'seed': 42}<br>Result logdir: /data/xliu127/projects/hyperopt/FLAML/data/checkpoint/dat=glue_subdat=mrpc_mod=grid_spa=grid_arg=dft_alg=grid_pru=None_pre=electra_presz=base_spt=ori_rep=0_sddt=43_sdhf=42_var1=None_var2=None/ray_result<br>Number of trials: 4/4 (4 TERMINATED)<br><br>"
      ],
      "text/plain": [
       "<IPython.core.display.HTML object>"
      ]
     },
     "metadata": {},
     "output_type": "display_data"
    },
    {
     "name": "stderr",
     "output_type": "stream",
     "text": [
      "2021-06-15 16:25:00,708\tINFO tune.py:450 -- Total run time: 360.87 seconds (360.72 seconds for the tuning loop).\n"
     ]
    }
   ],
   "source": [
    "autohf_settings = {\"resources_per_trial\": {\"gpu\": 1, \"cpu\": 1},\n",
    "                   \"num_samples\": 1,\n",
    "                   \"time_budget\": 100000,  # unlimited time budget\n",
    "                   \"ckpt_per_epoch\": 5,\n",
    "                   \"fp16\": True,\n",
    "                   \"algo_mode\": \"grid\",  # set the search algorithm to grid search\n",
    "                   \"space_mode\": \"grid\", # set the search space to the recommended grid space\n",
    "                   }\n",
    "validation_metric, analysis = autohf.fit(**autohf_settings,)"
   ]
  },
  {
   "cell_type": "markdown",
   "metadata": {},
   "source": [
    "Get the time for running grid search: "
   ]
  },
  {
   "cell_type": "code",
   "execution_count": 4,
   "metadata": {
    "pycharm": {
     "name": "#%%\n"
    }
   },
   "outputs": [
    {
     "name": "stdout",
     "output_type": "stream",
     "text": [
      "grid search for glue_mrpc took 360.9044075012207 seconds\n"
     ]
    }
   ],
   "source": [
    "GST = autohf.last_run_duration\n",
    "print(\"grid search for {} took {} seconds\".format(autohf.jobid_config.get_jobid_full_data_name(), GST))"
   ]
  },
  {
   "cell_type": "markdown",
   "metadata": {},
   "source": [
    "After the HPO run finishes, generate the predictions and save it as a .zip file to be submitted to the glue website. Here we will need the library AzureUtils which is for storing the output information (e.g., analysis log, .zip file) locally and uploading the output to an azure blob container (e.g., if multiple jobs are executed in a cluster). If the azure key and container information is not specified, the output information will only be saved locally. "
   ]
  },
  {
   "cell_type": "code",
   "execution_count": 5,
   "metadata": {},
   "outputs": [
    {
     "name": "stderr",
     "output_type": "stream",
     "text": [
      "remove_columns_ is deprecated and will be removed in the next major version of datasets. Use the dataset.remove_columns method instead.\n"
     ]
    },
    {
     "name": "stdout",
     "output_type": "stream",
     "text": [
      "Cleaning the existing label column from test data\n"
     ]
    },
    {
     "data": {
      "text/html": [
       "\n",
       "    <div>\n",
       "        <style>\n",
       "            /* Turns off some styling */\n",
       "            progress {\n",
       "                /* gets rid of default border in Firefox and Opera. */\n",
       "                border: none;\n",
       "                /* Needs to be in here for Safari polyfill so background images work as expected. */\n",
       "                background-size: auto;\n",
       "            }\n",
       "        </style>\n",
       "      \n",
       "      <progress value='432' max='432' style='width:300px; height:20px; vertical-align: middle;'></progress>\n",
       "      [432/432 00:33]\n",
       "    </div>\n",
       "    "
      ],
      "text/plain": [
       "<IPython.core.display.HTML object>"
      ]
     },
     "metadata": {},
     "output_type": "display_data"
    },
    {
     "name": "stdout",
     "output_type": "stream",
     "text": [
      "JobID(dat=['glue'], subdat='mrpc', mod='grid', spa='grid', arg='dft', alg='grid', pru='None', pre_full='google/electra-base-discriminator', pre='electra', presz='base', spt='ori', rep=0, sddt=43, sdhf=42, var1=None, var2=None)\n",
      "To use the azure storage component in flaml.nlp, run pip install azure-storage-blob\n",
      "console_args does not contain data_root_dir, loading the default value\n",
      "To use the azure storage component in flaml.nlp, run pip install azure-storage-blob\n",
      "{'eval_accuracy': 0.8946078431372549, 'eval_f1': 0.9238938053097344, 'eval_loss': 0.2885817289352417}\n"
     ]
    }
   ],
   "source": [
    "predictions, test_metric = autohf.predict()\n",
    "from flaml.nlp.result_analysis.azure_utils import AzureUtils\n",
    "\n",
    "print(autohf.jobid_config)\n",
    "\n",
    "azure_utils = AzureUtils(root_log_path=\"logs_test/\", autohf=autohf)\n",
    "azure_utils.write_autohf_output(valid_metric=validation_metric,\n",
    "                                predictions=predictions,\n",
    "                                duration= autohf.last_run_duration)\n",
    "print(validation_metric)"
   ]
  },
  {
   "cell_type": "markdown",
   "metadata": {
    "pycharm": {
     "name": "#%% md\n"
    }
   },
   "source": [
    "The validation F1/accuracy we got was 92.4/89.5. After the above steps, you will find a .zip file for the predictions under data/result/. Submit the .zip file to the glue website. The test F1/accuracy we got was 90.4/86.7."
   ]
  },
  {
   "cell_type": "markdown",
   "metadata": {
    "pycharm": {
     "name": "#%% md\n"
    }
   },
   "source": [
    "### Running Random Search\n",
    "\n",
    "Next, we run random search with the same time budget as grid search:"
   ]
  },
  {
   "cell_type": "code",
   "execution_count": 6,
   "metadata": {
    "pycharm": {
     "name": "#%%\n"
    }
   },
   "outputs": [],
   "source": [
    "def tune_hpo(time_budget, this_hpo_space):\n",
    "    autohf_settings = {\"resources_per_trial\": {\"gpu\": 1, \"cpu\": 1},\n",
    "                       \"num_samples\": -1,\n",
    "                       \"time_budget\": time_budget,  # unlimited time budget\n",
    "                       \"ckpt_per_epoch\": 5,\n",
    "                       \"fp16\": True,\n",
    "                       \"algo_mode\": \"hpo\",  # set the search algorithm to grid search\n",
    "                       \"algo_name\": \"rs\",\n",
    "                       \"space_mode\": \"cus\", # set the search space to the recommended grid space\n",
    "                       \"hpo_space\": this_hpo_space\n",
    "                       }\n",
    "    validation_metric, analysis = autohf.fit(**autohf_settings,)\n",
    "    predictions, test_metric = autohf.predict()\n",
    "    from flaml.nlp.result_analysis.azure_utils import AzureUtils\n",
    "    azure_utils = AzureUtils(root_log_path=\"logs_test/\", autohf=autohf)\n",
    "    azure_utils.write_autohf_output(valid_metric=validation_metric,\n",
    "                                    predictions=predictions,\n",
    "                                    duration= autohf.last_run_duration)\n",
    "    print(validation_metric)"
   ]
  },
  {
   "cell_type": "code",
   "execution_count": 7,
   "metadata": {},
   "outputs": [
    {
     "data": {
      "text/html": [
       "== Status ==<br>Memory usage on this node: 28.8/376.6 GiB<br>Using FIFO scheduling algorithm.<br>Resources requested: 0/96 CPUs, 0/4 GPUs, 0.0/247.46 GiB heap, 0.0/75.93 GiB objects (0/1.0 accelerator_type:V100)<br>Current best trial: 06cb5_00003 with accuracy=0.9093137254901961 and parameters={'learning_rate': 4.030097060410288e-05, 'warmup_ratio': 0.06084844859190755, 'num_train_epochs': 3, 'per_device_train_batch_size': 16, 'weight_decay': 0.15742692948967135, 'attention_probs_dropout_prob': 0.08638900372842316, 'hidden_dropout_prob': 0.058245828039608386, 'seed': 42}<br>Result logdir: /data/xliu127/projects/hyperopt/FLAML/data/checkpoint/dat=glue_subdat=mrpc_mod=hpo_spa=cus_arg=dft_alg=rs_pru=None_pre=electra_presz=base_spt=ori_rep=0_sddt=43_sdhf=42_var1=None_var2=None/ray_result<br>Number of trials: 9/infinite (9 TERMINATED)<br><br>"
      ],
      "text/plain": [
       "<IPython.core.display.HTML object>"
      ]
     },
     "metadata": {},
     "output_type": "display_data"
    },
    {
     "name": "stderr",
     "output_type": "stream",
     "text": [
      "\u001B[2m\u001B[36m(pid=13140)\u001B[0m \n",
      " 23%|██▎       | 3/13 [00:00<00:00, 22.87it/s]\u001B[A\n",
      "\u001B[2m\u001B[36m(pid=13140)\u001B[0m \n",
      " 23%|██▎       | 3/13 [00:00<00:00, 22.87it/s]\u001B[A\n",
      " 67%|██████▋   | 232/345 [03:37<03:44,  1.98s/it]\n",
      " 67%|██████▋   | 232/345 [03:37<03:44,  1.98s/it]\n",
      "\u001B[2m\u001B[36m(pid=13140)\u001B[0m \n",
      " 38%|███▊      | 5/13 [00:00<00:00, 19.85it/s]\u001B[A\n",
      "\u001B[2m\u001B[36m(pid=13140)\u001B[0m \n",
      " 38%|███▊      | 5/13 [00:00<00:00, 19.85it/s]\u001B[A\n",
      " 68%|██████▊   | 233/345 [03:37<02:39,  1.42s/it]\n",
      " 68%|██████▊   | 233/345 [03:37<02:39,  1.42s/it]\n",
      "\u001B[2m\u001B[36m(pid=13140)\u001B[0m \n",
      " 54%|█████▍    | 7/13 [00:00<00:00, 18.17it/s]\u001B[A\n",
      "\u001B[2m\u001B[36m(pid=13140)\u001B[0m \n",
      " 54%|█████▍    | 7/13 [00:00<00:00, 18.17it/s]\u001B[A\n",
      " 68%|██████▊   | 234/345 [03:37<01:53,  1.03s/it]\n",
      " 68%|██████▊   | 234/345 [03:37<01:53,  1.03s/it]\n",
      " 68%|██████▊   | 235/345 [03:37<01:22,  1.33it/s]\n",
      " 68%|██████▊   | 235/345 [03:37<01:22,  1.33it/s]\n",
      "\u001B[2m\u001B[36m(pid=13140)\u001B[0m \n",
      " 69%|██████▉   | 9/13 [00:00<00:00, 17.17it/s]\u001B[A\n",
      "\u001B[2m\u001B[36m(pid=13140)\u001B[0m \n",
      " 69%|██████▉   | 9/13 [00:00<00:00, 17.17it/s]\u001B[A\n",
      " 68%|██████▊   | 236/345 [03:37<01:01,  1.78it/s]\n",
      " 68%|██████▊   | 236/345 [03:37<01:01,  1.78it/s]\n",
      "\u001B[2m\u001B[36m(pid=13140)\u001B[0m \n",
      " 85%|████████▍ | 11/13 [00:00<00:00, 16.53it/s]\u001B[A\n",
      "\u001B[2m\u001B[36m(pid=13140)\u001B[0m \n",
      " 85%|████████▍ | 11/13 [00:00<00:00, 16.53it/s]\u001B[A\n",
      " 69%|██████▊   | 237/345 [03:37<00:46,  2.33it/s]\n",
      " 69%|██████▊   | 237/345 [03:37<00:46,  2.33it/s]\n",
      "\u001B[2m\u001B[36m(pid=13140)\u001B[0m \n",
      "100%|██████████| 13/13 [00:00<00:00, 16.12it/s]\u001B[A\n",
      "\u001B[2m\u001B[36m(pid=13140)\u001B[0m \n",
      "100%|██████████| 13/13 [00:00<00:00, 16.12it/s]\u001B[A\n",
      " 69%|██████▉   | 238/345 [03:37<00:35,  3.01it/s]\n",
      " 69%|██████▉   | 238/345 [03:37<00:35,  3.01it/s]\n",
      " 69%|██████▉   | 239/345 [03:38<00:28,  3.79it/s]\n",
      " 69%|██████▉   | 239/345 [03:38<00:28,  3.79it/s]\n",
      "                                                \n",
      " 48%|████▊     | 84/174 [02:03<00:26,  3.45it/s]\n",
      "100%|██████████| 13/13 [00:01<00:00, 16.12it/s]\u001B[A\n",
      "                                                \n",
      " 48%|████▊     | 84/174 [02:03<00:26,  3.45it/s]\n",
      "100%|██████████| 13/13 [00:01<00:00, 16.12it/s]\u001B[A\n",
      " 70%|██████▉   | 240/345 [03:38<00:22,  4.62it/s]\n",
      " 70%|██████▉   | 240/345 [03:38<00:22,  4.62it/s]\n",
      " 70%|██████▉   | 241/345 [03:38<00:19,  5.46it/s]\n",
      " 70%|██████▉   | 241/345 [03:38<00:19,  5.46it/s]\n"
     ]
    },
    {
     "name": "stdout",
     "output_type": "stream",
     "text": [
      "\u001B[2m\u001B[36m(pid=13140)\u001B[0m {'eval_loss': 0.4927924573421478, 'eval_accuracy': 0.8137254901960784, 'eval_f1': 0.8778135048231511, 'epoch': 1.4482758620689655}\n",
      "\u001B[2m\u001B[36m(pid=13140)\u001B[0m {'eval_loss': 0.4927924573421478, 'eval_accuracy': 0.8137254901960784, 'eval_f1': 0.8778135048231511, 'epoch': 1.4482758620689655}\n"
     ]
    },
    {
     "name": "stderr",
     "output_type": "stream",
     "text": [
      " 70%|███████   | 242/345 [03:38<00:16,  6.25it/s]\n",
      " 70%|███████   | 242/345 [03:38<00:16,  6.25it/s]\n",
      " 70%|███████   | 243/345 [03:38<00:14,  6.97it/s]\n",
      " 70%|███████   | 243/345 [03:38<00:14,  6.97it/s]\n",
      " 71%|███████   | 244/345 [03:38<00:13,  7.57it/s]\n",
      " 71%|███████   | 244/345 [03:38<00:13,  7.57it/s]\n",
      " 71%|███████   | 245/345 [03:38<00:12,  8.06it/s]\n",
      " 71%|███████   | 245/345 [03:38<00:12,  8.06it/s]\n",
      " 71%|███████▏  | 246/345 [03:38<00:11,  8.44it/s]\n",
      " 71%|███████▏  | 246/345 [03:38<00:11,  8.44it/s]\n",
      " 72%|███████▏  | 247/345 [03:38<00:11,  8.50it/s]\n",
      " 72%|███████▏  | 247/345 [03:38<00:11,  8.50it/s]\n",
      " 49%|████▉     | 85/174 [02:12<08:21,  5.63s/it]\n",
      " 49%|████▉     | 85/174 [02:12<08:21,  5.63s/it]\n",
      " 72%|███████▏  | 248/345 [03:39<00:11,  8.77it/s]\n",
      " 72%|███████▏  | 248/345 [03:39<00:11,  8.77it/s]\n",
      " 72%|███████▏  | 249/345 [03:39<00:10,  8.75it/s]\n",
      " 72%|███████▏  | 249/345 [03:39<00:10,  8.75it/s]\n",
      " 49%|████▉     | 86/174 [02:13<05:52,  4.00s/it]\n",
      " 49%|████▉     | 86/174 [02:13<05:52,  4.00s/it]\n",
      " 72%|███████▏  | 250/345 [03:39<00:10,  8.77it/s]\n",
      " 72%|███████▏  | 250/345 [03:39<00:10,  8.77it/s]\n",
      " 73%|███████▎  | 251/345 [03:39<00:10,  8.78it/s]\n",
      " 73%|███████▎  | 251/345 [03:39<00:10,  8.78it/s]\n",
      " 50%|█████     | 87/174 [02:13<04:08,  2.86s/it]\n",
      " 50%|█████     | 87/174 [02:13<04:08,  2.86s/it]\n",
      " 73%|███████▎  | 252/345 [03:39<00:10,  8.78it/s]\n",
      " 73%|███████▎  | 252/345 [03:39<00:10,  8.78it/s]\n",
      " 73%|███████▎  | 253/345 [03:39<00:10,  8.74it/s]\n",
      "  0%|          | 0/13 [00:00<?, ?it/s]\u001B[A\n",
      " 73%|███████▎  | 253/345 [03:39<00:10,  8.74it/s]\n",
      "  0%|          | 0/13 [00:00<?, ?it/s]\u001B[A\n",
      " 51%|█████     | 88/174 [02:13<02:57,  2.06s/it]\n",
      " 51%|█████     | 88/174 [02:13<02:57,  2.06s/it]\n",
      "\u001B[2m\u001B[36m(pid=13142)\u001B[0m \n",
      " 23%|██▎       | 3/13 [00:00<00:00, 22.38it/s]\u001B[A\n",
      "\u001B[2m\u001B[36m(pid=13142)\u001B[0m \n",
      " 23%|██▎       | 3/13 [00:00<00:00, 22.38it/s]\u001B[A\n",
      " 51%|█████     | 89/174 [02:13<02:07,  1.50s/it]\n",
      " 51%|█████     | 89/174 [02:13<02:07,  1.50s/it]\n",
      "\u001B[2m\u001B[36m(pid=13142)\u001B[0m \n",
      " 38%|███▊      | 5/13 [00:00<00:00, 19.30it/s]\u001B[A\n",
      "\u001B[2m\u001B[36m(pid=13142)\u001B[0m \n",
      " 38%|███▊      | 5/13 [00:00<00:00, 19.30it/s]\u001B[A\n",
      " 52%|█████▏    | 90/174 [02:13<01:32,  1.10s/it]\n",
      " 52%|█████▏    | 90/174 [02:13<01:32,  1.10s/it]\n",
      "\u001B[2m\u001B[36m(pid=13142)\u001B[0m \n",
      " 54%|█████▍    | 7/13 [00:00<00:00, 17.57it/s]\u001B[A\n",
      "\u001B[2m\u001B[36m(pid=13142)\u001B[0m \n",
      " 54%|█████▍    | 7/13 [00:00<00:00, 17.57it/s]\u001B[A\n",
      " 48%|████▊     | 84/174 [02:05<02:14,  1.49s/it]\n",
      "\u001B[2m\u001B[36m(pid=13140)\u001B[0m \n",
      "                                               \u001B[A\n",
      " 48%|████▊     | 84/174 [02:05<02:14,  1.49s/it]\n",
      "\u001B[2m\u001B[36m(pid=13140)\u001B[0m \n",
      "                                               \u001B[A\n",
      " 52%|█████▏    | 91/174 [02:13<01:08,  1.21it/s]\n",
      " 52%|█████▏    | 91/174 [02:13<01:08,  1.21it/s]\n",
      "\u001B[2m\u001B[36m(pid=13142)\u001B[0m \n",
      " 69%|██████▉   | 9/13 [00:00<00:00, 16.55it/s]\u001B[A\n",
      "\u001B[2m\u001B[36m(pid=13142)\u001B[0m \n",
      " 69%|██████▉   | 9/13 [00:00<00:00, 16.55it/s]\u001B[A\n",
      " 53%|█████▎    | 92/174 [02:14<00:51,  1.58it/s]\n",
      " 53%|█████▎    | 92/174 [02:14<00:51,  1.58it/s]\n",
      "\u001B[2m\u001B[36m(pid=13142)\u001B[0m \n",
      " 85%|████████▍ | 11/13 [00:00<00:00, 15.88it/s]\u001B[A\n",
      "\u001B[2m\u001B[36m(pid=13142)\u001B[0m \n",
      " 85%|████████▍ | 11/13 [00:00<00:00, 15.88it/s]\u001B[A\n",
      "\u001B[2m\u001B[36m(pid=13142)\u001B[0m \n",
      "100%|██████████| 13/13 [00:00<00:00, 15.46it/s]\u001B[A\n",
      "\u001B[2m\u001B[36m(pid=13142)\u001B[0m \n",
      "100%|██████████| 13/13 [00:00<00:00, 15.46it/s]\u001B[A\n",
      " 53%|█████▎    | 93/174 [02:14<00:40,  2.02it/s]\n",
      " 53%|█████▎    | 93/174 [02:14<00:40,  2.02it/s]\n",
      "                                                 \n",
      " 73%|███████▎  | 253/345 [03:40<00:10,  8.74it/s]\n",
      "100%|██████████| 13/13 [00:00<00:00, 15.46it/s]\u001B[A\n",
      "                                                 \n",
      " 73%|███████▎  | 253/345 [03:40<00:10,  8.74it/s]\n",
      "100%|██████████| 13/13 [00:00<00:00, 15.46it/s]\u001B[A\n",
      " 54%|█████▍    | 94/174 [02:14<00:31,  2.50it/s]\n",
      " 54%|█████▍    | 94/174 [02:14<00:31,  2.50it/s]\n"
     ]
    },
    {
     "name": "stdout",
     "output_type": "stream",
     "text": [
      "\u001B[2m\u001B[36m(pid=13142)\u001B[0m {'eval_loss': 0.40390661358833313, 'eval_accuracy': 0.8651960784313726, 'eval_f1': 0.9036777583187391, 'epoch': 2.2}\n",
      "\u001B[2m\u001B[36m(pid=13142)\u001B[0m {'eval_loss': 0.40390661358833313, 'eval_accuracy': 0.8651960784313726, 'eval_f1': 0.9036777583187391, 'epoch': 2.2}\n"
     ]
    },
    {
     "name": "stderr",
     "output_type": "stream",
     "text": [
      " 55%|█████▍    | 95/174 [02:14<00:26,  2.98it/s]\n",
      " 55%|█████▍    | 95/174 [02:14<00:26,  2.98it/s]\n",
      " 55%|█████▌    | 96/174 [02:14<00:22,  3.44it/s]\n",
      "  0%|          | 0/13 [00:00<?, ?it/s]\u001B[A\n",
      " 55%|█████▌    | 96/174 [02:14<00:22,  3.44it/s]\n",
      "  0%|          | 0/13 [00:00<?, ?it/s]\u001B[A\n",
      "\u001B[2m\u001B[36m(pid=13138)\u001B[0m \n",
      " 23%|██▎       | 3/13 [00:00<00:00, 22.64it/s]\u001B[A\n",
      "\u001B[2m\u001B[36m(pid=13138)\u001B[0m \n",
      " 23%|██▎       | 3/13 [00:00<00:00, 22.64it/s]\u001B[A\n",
      "\u001B[2m\u001B[36m(pid=13138)\u001B[0m \n",
      " 38%|███▊      | 5/13 [00:00<00:00, 19.70it/s]\u001B[A\n",
      "\u001B[2m\u001B[36m(pid=13138)\u001B[0m \n",
      " 38%|███▊      | 5/13 [00:00<00:00, 19.70it/s]\u001B[A\n",
      "\u001B[2m\u001B[36m(pid=13138)\u001B[0m \n",
      " 54%|█████▍    | 7/13 [00:00<00:00, 17.99it/s]\u001B[A\n",
      "\u001B[2m\u001B[36m(pid=13138)\u001B[0m \n",
      " 54%|█████▍    | 7/13 [00:00<00:00, 17.99it/s]\u001B[A\n",
      "\u001B[2m\u001B[36m(pid=13138)\u001B[0m \n",
      " 69%|██████▉   | 9/13 [00:00<00:00, 17.00it/s]\u001B[A\n",
      "\u001B[2m\u001B[36m(pid=13138)\u001B[0m \n",
      " 69%|██████▉   | 9/13 [00:00<00:00, 17.00it/s]\u001B[A\n",
      "\u001B[2m\u001B[36m(pid=13138)\u001B[0m \n",
      " 85%|████████▍ | 11/13 [00:00<00:00, 16.35it/s]\u001B[A\n",
      "\u001B[2m\u001B[36m(pid=13138)\u001B[0m \n",
      " 85%|████████▍ | 11/13 [00:00<00:00, 16.35it/s]\u001B[A\n",
      "\u001B[2m\u001B[36m(pid=13138)\u001B[0m \n",
      "100%|██████████| 13/13 [00:00<00:00, 15.89it/s]\u001B[A\n",
      "\u001B[2m\u001B[36m(pid=13138)\u001B[0m \n",
      "100%|██████████| 13/13 [00:00<00:00, 15.89it/s]\u001B[A\n",
      "                                                \n",
      " 55%|█████▌    | 96/174 [02:15<00:22,  3.44it/s]\n",
      "100%|██████████| 13/13 [00:00<00:00, 15.89it/s]\u001B[A\n",
      "                                                \n",
      " 55%|█████▌    | 96/174 [02:15<00:22,  3.44it/s]\n",
      "100%|██████████| 13/13 [00:00<00:00, 15.89it/s]\u001B[A\n"
     ]
    },
    {
     "name": "stdout",
     "output_type": "stream",
     "text": [
      "\u001B[2m\u001B[36m(pid=13138)\u001B[0m {'eval_loss': 0.29186099767684937, 'eval_accuracy': 0.8725490196078431, 'eval_f1': 0.9040590405904059, 'epoch': 1.6551724137931034}\n",
      "\u001B[2m\u001B[36m(pid=13138)\u001B[0m {'eval_loss': 0.29186099767684937, 'eval_accuracy': 0.8725490196078431, 'eval_f1': 0.9040590405904059, 'epoch': 1.6551724137931034}\n"
     ]
    },
    {
     "name": "stderr",
     "output_type": "stream",
     "text": [
      " 73%|███████▎  | 253/345 [03:42<01:20,  1.14it/s]\n",
      "\u001B[2m\u001B[36m(pid=13142)\u001B[0m \n",
      "                                               \u001B[A\n",
      " 73%|███████▎  | 253/345 [03:42<01:20,  1.14it/s]\n",
      "\u001B[2m\u001B[36m(pid=13142)\u001B[0m \n",
      "                                               \u001B[A\n",
      "2021-06-15 16:34:31,364\tINFO tune.py:450 -- Total run time: 518.66 seconds (511.35 seconds for the tuning loop).\n",
      " 55%|█████▌    | 96/174 [02:17<01:51,  1.43s/it]\n",
      "\u001B[2m\u001B[36m(pid=13138)\u001B[0m \n",
      "                                               \u001B[A\n",
      " 55%|█████▌    | 96/174 [02:17<01:51,  1.43s/it]\n",
      "\u001B[2m\u001B[36m(pid=13138)\u001B[0m \n",
      "                                               \u001B[A\n"
     ]
    },
    {
     "data": {
      "text/html": [
       "\n",
       "    <div>\n",
       "        <style>\n",
       "            /* Turns off some styling */\n",
       "            progress {\n",
       "                /* gets rid of default border in Firefox and Opera. */\n",
       "                border: none;\n",
       "                /* Needs to be in here for Safari polyfill so background images work as expected. */\n",
       "                background-size: auto;\n",
       "            }\n",
       "        </style>\n",
       "      \n",
       "      <progress value='432' max='432' style='width:300px; height:20px; vertical-align: middle;'></progress>\n",
       "      [432/432 00:33]\n",
       "    </div>\n",
       "    "
      ],
      "text/plain": [
       "<IPython.core.display.HTML object>"
      ]
     },
     "metadata": {},
     "output_type": "display_data"
    },
    {
     "name": "stdout",
     "output_type": "stream",
     "text": [
      "To use the azure storage component in flaml.nlp, run pip install azure-storage-blob\n",
      "console_args does not contain data_root_dir, loading the default value\n",
      "To use the azure storage component in flaml.nlp, run pip install azure-storage-blob\n",
      "{'eval_accuracy': 0.9093137254901961, 'eval_f1': 0.9345132743362833, 'eval_loss': 0.2630058825016022}\n"
     ]
    }
   ],
   "source": [
    "hpo_space_full = {\n",
    "               \"learning_rate\": {\"l\": 3e-5, \"u\": 1.5e-4, \"space\": \"log\"},\n",
    "               \"warmup_ratio\": {\"l\": 0, \"u\": 0.2, \"space\": \"linear\"},\n",
    "               \"num_train_epochs\": [3],\n",
    "               \"per_device_train_batch_size\": [16, 32, 64],\n",
    "               \"weight_decay\": {\"l\": 0.0, \"u\": 0.3, \"space\": \"linear\"},\n",
    "               \"attention_probs_dropout_prob\": {\"l\": 0, \"u\": 0.2, \"space\": \"linear\"},\n",
    "               \"hidden_dropout_prob\": {\"l\": 0, \"u\": 0.2, \"space\": \"linear\"},\n",
    "            }\n",
    "\n",
    "tune_hpo(GST, hpo_space_full)"
   ]
  },
  {
   "cell_type": "markdown",
   "metadata": {
    "pycharm": {
     "name": "#%% md\n"
    }
   },
   "source": [
    "The validation F1/accuracy we got was 93.5/90.9. Similarly, we can submit the .zip file to the glue website. The test F1/accuaracy we got was 81.6/70.2. As an example, we only run the experiment one time, but in general, we should run the experiment multiple repetitions and report the averaged validation and test accuracy."
   ]
  },
  {
   "cell_type": "markdown",
   "metadata": {
    "pycharm": {
     "name": "#%% md\n"
    }
   },
   "source": [
    "## 3. Troubleshooting HPO Failures\n",
    "\n",
    "Since the validation accuracy is larger than grid search while the test accuracy is smaller, HPO has overfitting. We reduce the search space:"
   ]
  },
  {
   "cell_type": "code",
   "execution_count": null,
   "metadata": {
    "pycharm": {
     "name": "#%%\n"
    }
   },
   "outputs": [
    {
     "data": {
      "text/html": [
       "== Status ==<br>Memory usage on this node: 26.3/376.6 GiB<br>Using FIFO scheduling algorithm.<br>Resources requested: 0/96 CPUs, 0/4 GPUs, 0.0/247.46 GiB heap, 0.0/75.93 GiB objects (0/1.0 accelerator_type:V100)<br>Current best trial: 54a7b_00001 with accuracy=0.8921568627450981 and parameters={'learning_rate': 3.856324792582339e-05, 'warmup_ratio': 0.1, 'num_train_epochs': 3, 'per_device_train_batch_size': 16, 'weight_decay': 0.04679835610086079, 'attention_probs_dropout_prob': 0.011616722433639893, 'hidden_dropout_prob': 0.17323522915498704, 'seed': 42}<br>Result logdir: /data/xliu127/projects/hyperopt/FLAML/data/checkpoint/dat=glue_subdat=mrpc_mod=hpo_spa=cus_arg=dft_alg=rs_pru=None_pre=electra_presz=base_spt=ori_rep=0_sddt=43_sdhf=42_var1=None_var2=None/ray_result<br>Number of trials: 9/infinite (9 TERMINATED)<br><br>"
      ],
      "text/plain": [
       "<IPython.core.display.HTML object>"
      ]
     },
     "metadata": {},
     "output_type": "display_data"
    },
    {
     "name": "stderr",
     "output_type": "stream",
     "text": [
      " 43%|████▎     | 149/345 [01:57<00:47,  4.16it/s]\n",
      " 43%|████▎     | 149/345 [01:57<00:47,  4.16it/s]\n",
      " 43%|████▎     | 149/345 [01:57<00:47,  4.16it/s]\n",
      " 43%|████▎     | 150/345 [01:57<00:40,  4.76it/s]\n",
      " 43%|████▎     | 150/345 [01:57<00:40,  4.76it/s]\n",
      " 43%|████▎     | 150/345 [01:57<00:40,  4.76it/s]\n",
      " 44%|████▍     | 151/345 [01:57<00:35,  5.39it/s]\n",
      " 44%|████▍     | 151/345 [01:57<00:35,  5.39it/s]\n",
      " 44%|████▍     | 151/345 [01:57<00:35,  5.39it/s]\n",
      " 40%|████      | 139/345 [01:49<11:24,  3.32s/it]\n",
      " 40%|████      | 139/345 [01:49<11:24,  3.32s/it]\n",
      " 40%|████      | 139/345 [01:49<11:24,  3.32s/it]\n",
      " 44%|████▍     | 152/345 [01:57<00:32,  5.86it/s]\n",
      " 44%|████▍     | 152/345 [01:57<00:32,  5.86it/s]\n",
      " 44%|████▍     | 152/345 [01:57<00:32,  5.86it/s]\n",
      " 41%|████      | 140/345 [01:49<08:03,  2.36s/it]\n",
      " 41%|████      | 140/345 [01:49<08:03,  2.36s/it]\n",
      " 41%|████      | 140/345 [01:49<08:03,  2.36s/it]\n",
      " 44%|████▍     | 153/345 [01:57<00:30,  6.25it/s]\n",
      " 44%|████▍     | 153/345 [01:57<00:30,  6.25it/s]\n",
      " 44%|████▍     | 153/345 [01:57<00:30,  6.25it/s]\n",
      " 41%|████      | 141/345 [01:49<05:43,  1.68s/it]\n",
      " 41%|████      | 141/345 [01:49<05:43,  1.68s/it]\n",
      " 41%|████      | 141/345 [01:49<05:43,  1.68s/it]\n",
      " 45%|████▍     | 154/345 [01:58<00:28,  6.63it/s]\n",
      " 45%|████▍     | 154/345 [01:58<00:28,  6.63it/s]\n",
      " 45%|████▍     | 154/345 [01:58<00:28,  6.63it/s]\n",
      " 41%|████      | 142/345 [01:49<04:06,  1.21s/it]\n",
      " 41%|████      | 142/345 [01:49<04:06,  1.21s/it]\n",
      " 41%|████      | 142/345 [01:49<04:06,  1.21s/it]\n",
      " 45%|████▍     | 155/345 [01:58<00:27,  7.01it/s]\n",
      " 45%|████▍     | 155/345 [01:58<00:27,  7.01it/s]\n",
      " 45%|████▍     | 155/345 [01:58<00:27,  7.01it/s]\n",
      " 41%|████▏     | 143/345 [01:50<02:58,  1.13it/s]\n",
      " 41%|████▏     | 143/345 [01:50<02:58,  1.13it/s]\n",
      " 41%|████▏     | 143/345 [01:50<02:58,  1.13it/s]\n",
      " 45%|████▌     | 156/345 [01:58<00:25,  7.34it/s]\n",
      " 45%|████▌     | 156/345 [01:58<00:25,  7.34it/s]\n",
      " 45%|████▌     | 156/345 [01:58<00:25,  7.34it/s]\n",
      " 42%|████▏     | 144/345 [01:50<02:11,  1.53it/s]\n",
      " 42%|████▏     | 144/345 [01:50<02:11,  1.53it/s]\n",
      " 42%|████▏     | 144/345 [01:50<02:11,  1.53it/s]\n",
      " 46%|████▌     | 157/345 [01:58<00:24,  7.52it/s]\n",
      " 46%|████▌     | 157/345 [01:58<00:24,  7.52it/s]\n",
      " 46%|████▌     | 157/345 [01:58<00:24,  7.52it/s]\n",
      " 42%|████▏     | 145/345 [01:50<01:39,  2.02it/s]\n",
      " 42%|████▏     | 145/345 [01:50<01:39,  2.02it/s]\n",
      " 42%|████▏     | 145/345 [01:50<01:39,  2.02it/s]\n",
      " 46%|████▌     | 158/345 [01:58<00:24,  7.66it/s]\n",
      " 46%|████▌     | 158/345 [01:58<00:24,  7.66it/s]\n",
      " 46%|████▌     | 158/345 [01:58<00:24,  7.66it/s]\n",
      " 42%|████▏     | 146/345 [01:50<01:16,  2.60it/s]\n",
      " 42%|████▏     | 146/345 [01:50<01:16,  2.60it/s]\n",
      " 42%|████▏     | 146/345 [01:50<01:16,  2.60it/s]\n",
      " 46%|████▌     | 159/345 [01:58<00:23,  7.77it/s]\n",
      " 46%|████▌     | 159/345 [01:58<00:23,  7.77it/s]\n",
      " 46%|████▌     | 159/345 [01:58<00:23,  7.77it/s]\n",
      " 43%|████▎     | 147/345 [01:50<01:00,  3.26it/s]\n",
      " 43%|████▎     | 147/345 [01:50<01:00,  3.26it/s]\n",
      " 43%|████▎     | 147/345 [01:50<01:00,  3.26it/s]\n",
      " 46%|████▋     | 160/345 [01:58<00:23,  7.85it/s]\n",
      " 46%|████▋     | 160/345 [01:58<00:23,  7.85it/s]\n",
      " 46%|████▋     | 160/345 [01:58<00:23,  7.85it/s]\n",
      " 43%|████▎     | 148/345 [01:50<00:49,  3.97it/s]\n",
      " 43%|████▎     | 148/345 [01:50<00:49,  3.97it/s]\n",
      " 43%|████▎     | 148/345 [01:50<00:49,  3.97it/s]\n",
      " 47%|████▋     | 161/345 [01:58<00:23,  7.90it/s]\n",
      "  0%|          | 0/13 [00:00<?, ?it/s]\u001B[A\n",
      " 47%|████▋     | 161/345 [01:58<00:23,  7.90it/s]\n",
      "  0%|          | 0/13 [00:00<?, ?it/s]\u001B[A\n",
      " 47%|████▋     | 161/345 [01:58<00:23,  7.90it/s]\n",
      "  0%|          | 0/13 [00:00<?, ?it/s]\u001B[A\n",
      " 43%|████▎     | 149/345 [01:50<00:41,  4.70it/s]\n",
      " 43%|████▎     | 149/345 [01:50<00:41,  4.70it/s]\n",
      " 43%|████▎     | 149/345 [01:50<00:41,  4.70it/s]\n",
      "\u001B[2m\u001B[36m(pid=16805)\u001B[0m \n",
      " 23%|██▎       | 3/13 [00:00<00:00, 22.82it/s]\u001B[A\n",
      "\u001B[2m\u001B[36m(pid=16805)\u001B[0m \n",
      " 23%|██▎       | 3/13 [00:00<00:00, 22.82it/s]\u001B[A\n",
      "\u001B[2m\u001B[36m(pid=16805)\u001B[0m \n",
      " 23%|██▎       | 3/13 [00:00<00:00, 22.82it/s]\u001B[A\n",
      " 43%|████▎     | 150/345 [01:50<00:36,  5.37it/s]\n",
      " 43%|████▎     | 150/345 [01:50<00:36,  5.37it/s]\n",
      " 43%|████▎     | 150/345 [01:50<00:36,  5.37it/s]\n",
      " 44%|████▍     | 151/345 [01:51<00:32,  5.97it/s]\n",
      " 44%|████▍     | 151/345 [01:51<00:32,  5.97it/s]\n",
      " 44%|████▍     | 151/345 [01:51<00:32,  5.97it/s]\n",
      "\u001B[2m\u001B[36m(pid=16805)\u001B[0m \n",
      " 38%|███▊      | 5/13 [00:00<00:00, 19.98it/s]\u001B[A\n",
      "\u001B[2m\u001B[36m(pid=16805)\u001B[0m \n",
      " 38%|███▊      | 5/13 [00:00<00:00, 19.98it/s]\u001B[A\n",
      "\u001B[2m\u001B[36m(pid=16805)\u001B[0m \n",
      " 38%|███▊      | 5/13 [00:00<00:00, 19.98it/s]\u001B[A\n",
      " 44%|████▍     | 152/345 [01:51<00:29,  6.51it/s]\n",
      " 44%|████▍     | 152/345 [01:51<00:29,  6.51it/s]\n",
      " 44%|████▍     | 152/345 [01:51<00:29,  6.51it/s]\n",
      "\u001B[2m\u001B[36m(pid=16805)\u001B[0m \n",
      " 54%|█████▍    | 7/13 [00:00<00:00, 18.28it/s]\u001B[A\n",
      "\u001B[2m\u001B[36m(pid=16805)\u001B[0m \n",
      " 54%|█████▍    | 7/13 [00:00<00:00, 18.28it/s]\u001B[A\n",
      "\u001B[2m\u001B[36m(pid=16805)\u001B[0m \n",
      " 54%|█████▍    | 7/13 [00:00<00:00, 18.28it/s]\u001B[A\n",
      " 44%|████▍     | 153/345 [01:51<00:27,  7.04it/s]\n",
      " 44%|████▍     | 153/345 [01:51<00:27,  7.04it/s]\n",
      " 44%|████▍     | 153/345 [01:51<00:27,  7.04it/s]\n",
      "\u001B[2m\u001B[36m(pid=16805)\u001B[0m \n",
      " 69%|██████▉   | 9/13 [00:00<00:00, 17.23it/s]\u001B[A\n",
      "\u001B[2m\u001B[36m(pid=16805)\u001B[0m \n",
      " 69%|██████▉   | 9/13 [00:00<00:00, 17.23it/s]\u001B[A\n",
      "\u001B[2m\u001B[36m(pid=16805)\u001B[0m \n",
      " 69%|██████▉   | 9/13 [00:00<00:00, 17.23it/s]\u001B[A\n",
      " 45%|████▍     | 154/345 [01:51<00:25,  7.36it/s]\n",
      " 45%|████▍     | 154/345 [01:51<00:25,  7.36it/s]\n",
      " 45%|████▍     | 154/345 [01:51<00:25,  7.36it/s]\n",
      "\u001B[2m\u001B[36m(pid=16805)\u001B[0m \n",
      " 85%|████████▍ | 11/13 [00:00<00:00, 16.57it/s]\u001B[A\n",
      "\u001B[2m\u001B[36m(pid=16805)\u001B[0m \n",
      " 85%|████████▍ | 11/13 [00:00<00:00, 16.57it/s]\u001B[A\n",
      "\u001B[2m\u001B[36m(pid=16805)\u001B[0m \n",
      " 85%|████████▍ | 11/13 [00:00<00:00, 16.57it/s]\u001B[A\n",
      " 45%|████▍     | 155/345 [01:51<00:24,  7.71it/s]\n",
      " 45%|████▍     | 155/345 [01:51<00:24,  7.71it/s]\n",
      " 45%|████▍     | 155/345 [01:51<00:24,  7.71it/s]\n",
      "\u001B[2m\u001B[36m(pid=16805)\u001B[0m \n",
      "100%|██████████| 13/13 [00:00<00:00, 16.13it/s]\u001B[A\n",
      "\u001B[2m\u001B[36m(pid=16805)\u001B[0m \n",
      "100%|██████████| 13/13 [00:00<00:00, 16.13it/s]\u001B[A\n",
      "\u001B[2m\u001B[36m(pid=16805)\u001B[0m \n",
      "100%|██████████| 13/13 [00:00<00:00, 16.13it/s]\u001B[A\n",
      " 45%|████▌     | 156/345 [01:51<00:23,  7.98it/s]\n",
      " 45%|████▌     | 156/345 [01:51<00:23,  7.98it/s]\n",
      " 45%|████▌     | 156/345 [01:51<00:23,  7.98it/s]\n",
      " 46%|████▌     | 157/345 [01:51<00:23,  7.90it/s]\n",
      " 46%|████▌     | 157/345 [01:51<00:23,  7.90it/s]\n",
      " 46%|████▌     | 157/345 [01:51<00:23,  7.90it/s]\n",
      "                                                 \n",
      " 47%|████▋     | 161/345 [02:00<00:23,  7.90it/s]\n",
      "100%|██████████| 13/13 [00:01<00:00, 16.13it/s]\u001B[A\n",
      "                                                 \n",
      " 47%|████▋     | 161/345 [02:00<00:23,  7.90it/s]\n",
      "100%|██████████| 13/13 [00:01<00:00, 16.13it/s]\u001B[A\n",
      "                                                 \n",
      " 47%|████▋     | 161/345 [02:00<00:23,  7.90it/s]\n",
      "100%|██████████| 13/13 [00:01<00:00, 16.13it/s]\u001B[A\n",
      " 46%|████▌     | 158/345 [01:51<00:23,  7.96it/s]\n",
      " 46%|████▌     | 158/345 [01:51<00:23,  7.96it/s]\n",
      " 46%|████▌     | 158/345 [01:51<00:23,  7.96it/s]\n",
      " 46%|████▌     | 159/345 [01:52<00:23,  8.03it/s]\n",
      " 46%|████▌     | 159/345 [01:52<00:23,  8.03it/s]\n",
      " 46%|████▌     | 159/345 [01:52<00:23,  8.03it/s]\n"
     ]
    },
    {
     "name": "stdout",
     "output_type": "stream",
     "text": [
      "\u001B[2m\u001B[36m(pid=16805)\u001B[0m {'eval_loss': 0.6097157001495361, 'eval_accuracy': 0.6838235294117647, 'eval_f1': 0.8122270742358079, 'epoch': 1.4}\n",
      "\u001B[2m\u001B[36m(pid=16805)\u001B[0m {'eval_loss': 0.6097157001495361, 'eval_accuracy': 0.6838235294117647, 'eval_f1': 0.8122270742358079, 'epoch': 1.4}\n",
      "\u001B[2m\u001B[36m(pid=16805)\u001B[0m {'eval_loss': 0.6097157001495361, 'eval_accuracy': 0.6838235294117647, 'eval_f1': 0.8122270742358079, 'epoch': 1.4}\n"
     ]
    },
    {
     "name": "stderr",
     "output_type": "stream",
     "text": [
      " 46%|████▋     | 160/345 [01:52<00:22,  8.09it/s]\n",
      " 46%|████▋     | 160/345 [01:52<00:22,  8.09it/s]\n",
      " 46%|████▋     | 160/345 [01:52<00:22,  8.09it/s]\n",
      " 47%|████▋     | 161/345 [01:52<00:22,  8.11it/s]\n",
      " 47%|████▋     | 161/345 [01:52<00:22,  8.11it/s]\n",
      " 47%|████▋     | 161/345 [01:52<00:22,  8.11it/s]\n",
      "\u001B[2m\u001B[36m(pid=16741)\u001B[0m \n",
      "  0%|          | 0/13 [00:00<?, ?it/s]\u001B[A\n",
      "\u001B[2m\u001B[36m(pid=16741)\u001B[0m \n",
      "  0%|          | 0/13 [00:00<?, ?it/s]\u001B[A\n",
      "\u001B[2m\u001B[36m(pid=16741)\u001B[0m \n",
      "  0%|          | 0/13 [00:00<?, ?it/s]\u001B[A\n",
      "\u001B[2m\u001B[36m(pid=16741)\u001B[0m \n",
      " 23%|██▎       | 3/13 [00:00<00:00, 22.59it/s]\u001B[A\n",
      "\u001B[2m\u001B[36m(pid=16741)\u001B[0m \n",
      " 23%|██▎       | 3/13 [00:00<00:00, 22.59it/s]\u001B[A\n",
      "\u001B[2m\u001B[36m(pid=16741)\u001B[0m \n",
      " 23%|██▎       | 3/13 [00:00<00:00, 22.59it/s]\u001B[A\n",
      "\u001B[2m\u001B[36m(pid=16741)\u001B[0m \n",
      " 38%|███▊      | 5/13 [00:00<00:00, 19.50it/s]\u001B[A\n",
      "\u001B[2m\u001B[36m(pid=16741)\u001B[0m \n",
      " 38%|███▊      | 5/13 [00:00<00:00, 19.50it/s]\u001B[A\n",
      "\u001B[2m\u001B[36m(pid=16741)\u001B[0m \n",
      " 38%|███▊      | 5/13 [00:00<00:00, 19.50it/s]\u001B[A\n",
      "\u001B[2m\u001B[36m(pid=16741)\u001B[0m \n",
      " 54%|█████▍    | 7/13 [00:00<00:00, 17.92it/s]\u001B[A\n",
      "\u001B[2m\u001B[36m(pid=16741)\u001B[0m \n",
      " 54%|█████▍    | 7/13 [00:00<00:00, 17.92it/s]\u001B[A\n",
      "\u001B[2m\u001B[36m(pid=16741)\u001B[0m \n",
      " 54%|█████▍    | 7/13 [00:00<00:00, 17.92it/s]\u001B[A\n",
      "\u001B[2m\u001B[36m(pid=16741)\u001B[0m \n",
      " 69%|██████▉   | 9/13 [00:00<00:00, 16.83it/s]\u001B[A\n",
      "\u001B[2m\u001B[36m(pid=16741)\u001B[0m \n",
      " 69%|██████▉   | 9/13 [00:00<00:00, 16.83it/s]\u001B[A\n",
      "\u001B[2m\u001B[36m(pid=16741)\u001B[0m \n",
      " 69%|██████▉   | 9/13 [00:00<00:00, 16.83it/s]\u001B[A\n",
      "\u001B[2m\u001B[36m(pid=16741)\u001B[0m \n",
      " 85%|████████▍ | 11/13 [00:00<00:00, 16.16it/s]\u001B[A\n",
      "\u001B[2m\u001B[36m(pid=16741)\u001B[0m \n",
      " 85%|████████▍ | 11/13 [00:00<00:00, 16.16it/s]\u001B[A\n",
      "\u001B[2m\u001B[36m(pid=16741)\u001B[0m \n",
      " 85%|████████▍ | 11/13 [00:00<00:00, 16.16it/s]\u001B[A\n",
      "\u001B[2m\u001B[36m(pid=16741)\u001B[0m \n",
      "100%|██████████| 13/13 [00:00<00:00, 15.72it/s]\u001B[A\n",
      "\u001B[2m\u001B[36m(pid=16741)\u001B[0m \n",
      "100%|██████████| 13/13 [00:00<00:00, 15.72it/s]\u001B[A\n",
      "\u001B[2m\u001B[36m(pid=16741)\u001B[0m \n",
      "100%|██████████| 13/13 [00:00<00:00, 15.72it/s]\u001B[A\n",
      "                                                 \n",
      " 47%|████▋     | 161/345 [01:53<00:22,  8.11it/s]\n",
      "100%|██████████| 13/13 [00:01<00:00, 15.72it/s]\u001B[A\n",
      "                                                 \n",
      " 47%|████▋     | 161/345 [01:53<00:22,  8.11it/s]\n",
      "100%|██████████| 13/13 [00:01<00:00, 15.72it/s]\u001B[A\n",
      "                                                 \n",
      " 47%|████▋     | 161/345 [01:53<00:22,  8.11it/s]\n",
      "100%|██████████| 13/13 [00:01<00:00, 15.72it/s]\u001B[A\n"
     ]
    },
    {
     "name": "stdout",
     "output_type": "stream",
     "text": [
      "\u001B[2m\u001B[36m(pid=16741)\u001B[0m {'eval_loss': 0.6241453289985657, 'eval_accuracy': 0.6838235294117647, 'eval_f1': 0.8122270742358079, 'epoch': 1.4}\n",
      "\u001B[2m\u001B[36m(pid=16741)\u001B[0m {'eval_loss': 0.6241453289985657, 'eval_accuracy': 0.6838235294117647, 'eval_f1': 0.8122270742358079, 'epoch': 1.4}\n",
      "\u001B[2m\u001B[36m(pid=16741)\u001B[0m {'eval_loss': 0.6241453289985657, 'eval_accuracy': 0.6838235294117647, 'eval_f1': 0.8122270742358079, 'epoch': 1.4}\n"
     ]
    },
    {
     "name": "stderr",
     "output_type": "stream",
     "text": [
      "\u001B[2m\u001B[36m(pid=16805)\u001B[0m \r",
      " 47%|████▋     | 161/345 [02:01<02:19,  1.32it/s]\n",
      "\u001B[2m\u001B[36m(pid=16805)\u001B[0m \n",
      "\u001B[2m\u001B[36m(pid=16805)\u001B[0m \r",
      "                                               \u001B[A\n",
      "\u001B[2m\u001B[36m(pid=16805)\u001B[0m \r",
      " 47%|████▋     | 161/345 [02:01<02:19,  1.32it/s]\n",
      "\u001B[2m\u001B[36m(pid=16805)\u001B[0m \n",
      "\u001B[2m\u001B[36m(pid=16805)\u001B[0m \r",
      "                                               \u001B[A\n",
      "\u001B[2m\u001B[36m(pid=16805)\u001B[0m \r",
      " 47%|████▋     | 161/345 [02:01<02:19,  1.32it/s]\n",
      "\u001B[2m\u001B[36m(pid=16805)\u001B[0m \n",
      "\u001B[2m\u001B[36m(pid=16805)\u001B[0m \r",
      "                                               \u001B[A\n"
     ]
    }
   ],
   "source": [
    "hpo_space_fixwr = {\n",
    "               \"learning_rate\": {\"l\": 3e-5, \"u\": 1.5e-4, \"space\": \"log\"},\n",
    "               \"warmup_ratio\": [0.1],\n",
    "               \"num_train_epochs\": [3],\n",
    "               \"per_device_train_batch_size\": [16, 32, 64],\n",
    "               \"weight_decay\": {\"l\": 0.0, \"u\": 0.3, \"space\": \"linear\"},\n",
    "               \"attention_probs_dropout_prob\": {\"l\": 0, \"u\": 0.2, \"space\": \"linear\"},\n",
    "               \"hidden_dropout_prob\": {\"l\": 0, \"u\": 0.2, \"space\": \"linear\"},\n",
    "            }\n",
    "tune_hpo(GST, hpo_space_fixwr)"
   ]
  },
  {
   "cell_type": "markdown",
   "metadata": {},
   "source": [
    "The validation F1/accuracy we got was 92.6/89.7, the test F1/accuracy was 85.9/78.7, therefore overfitting still exists and we further reduce the space:"
   ]
  },
  {
   "cell_type": "code",
   "execution_count": null,
   "metadata": {
    "pycharm": {
     "name": "#%%\n"
    }
   },
   "outputs": [],
   "source": [
    "hpo_space_min = {\n",
    "               \"learning_rate\": {\"l\": 3e-5, \"u\": 1.5e-4, \"space\": \"log\"},\n",
    "               \"warmup_ratio\": [0.1],\n",
    "               \"num_train_epochs\": [3],\n",
    "               \"per_device_train_batch_size\": [16, 32, 64],\n",
    "               \"weight_decay\": [0.0],\n",
    "               \"attention_probs_dropout_prob\": [0.1],\n",
    "               \"hidden_dropout_prob\": [0.1],\n",
    "            }\n",
    "tune_hpo(GST, hpo_space_min)"
   ]
  },
  {
   "cell_type": "markdown",
   "metadata": {
    "pycharm": {
     "name": "#%% md\n"
    }
   },
   "source": [
    "The validation F1/accuracy we got was 92.9/90.2, test F1/accuracy was 83.0/73.0. Since the result still overfits even with the minimal search space, we stop."
   ]
  }
 ],
 "metadata": {
  "kernelspec": {
   "display_name": "Python 3",
   "language": "python",
   "name": "python3"
  },
  "language_info": {
   "codemirror_mode": {
    "name": "ipython",
    "version": 3
   },
   "file_extension": ".py",
   "mimetype": "text/x-python",
   "name": "python",
   "nbconvert_exporter": "python",
   "pygments_lexer": "ipython3",
   "version": "3.8.0"
  }
 },
 "nbformat": 4,
 "nbformat_minor": 1
}